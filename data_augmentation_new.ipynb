{
  "nbformat": 4,
  "nbformat_minor": 0,
  "metadata": {
    "colab": {
      "provenance": []
    },
    "kernelspec": {
      "name": "python3",
      "display_name": "Python 3"
    },
    "language_info": {
      "name": "python"
    }
  },
  "cells": [
    {
      "cell_type": "code",
      "source": [
        "from IPython import get_ipython\n",
        "from IPython.display import display\n",
        "# %%\n",
        "import pandas as pd\n",
        "import random\n",
        "import os\n",
        "from google.colab import files # Import the files module\n",
        "\n",
        "AMINO_ACIDS = list(\"ACDEFGHIKLMNPQRSTVWY\")  # standard amino acids\n",
        "MASK_TOKEN = \"[MASK]\"\n",
        "\n",
        "def random_replace(seq, fraction):\n",
        "    seq = list(seq)\n",
        "    n = max(1, int(len(seq) * fraction))\n",
        "    indices = random.sample(range(len(seq)), n)\n",
        "    for i in indices:\n",
        "        seq[i] = random.choice(AMINO_ACIDS)\n",
        "    return ''.join(seq)\n",
        "\n",
        "def random_delete(seq, fraction):\n",
        "    seq = list(seq)\n",
        "    n = max(1, int(len(seq) * fraction))\n",
        "    indices_to_delete = set(random.sample(range(len(seq)), n))\n",
        "    return ''.join([aa for i, aa in enumerate(seq) if i not in indices_to_delete])\n",
        "\n",
        "def random_replace_with_A(seq, fraction):\n",
        "    seq = list(seq)\n",
        "    n = max(1, int(len(seq) * fraction))\n",
        "    indices = random.sample(range(len(seq)), n)\n",
        "    for i in indices:\n",
        "        seq[i] = 'A'\n",
        "    return ''.join(seq)\n",
        "\n",
        "def random_swap(seq, fraction):\n",
        "    seq = list(seq)\n",
        "    n = max(1, int(len(seq) * fraction))\n",
        "    indices = random.sample(range(len(seq) - 1), n)\n",
        "    for i in indices:\n",
        "        seq[i], seq[i + 1] = seq[i + 1], seq[i]\n",
        "    return ''.join(seq)\n",
        "\n",
        "def random_insertion_with_A(seq, fraction):\n",
        "    seq = list(seq)\n",
        "    n = max(1, int(len(seq) * fraction))\n",
        "    for _ in range(n):\n",
        "        idx = random.randint(0, len(seq))\n",
        "        seq.insert(idx, 'A')\n",
        "    return ''.join(seq)\n",
        "\n",
        "def random_replace_with_G(seq, fraction):\n",
        "    seq = list(seq)\n",
        "    n = max(1, int(len(seq) * fraction))\n",
        "    indices = random.sample(range(len(seq)), n)\n",
        "    for i in indices:\n",
        "        seq[i] = 'G'\n",
        "    return ''.join(seq)\n",
        "\n",
        "def random_insertion_with_G(seq, fraction):\n",
        "    seq = list(seq)\n",
        "    n = max(1, int(len(seq) * fraction))\n",
        "    for _ in range(n):\n",
        "        idx = random.randint(0, len(seq))\n",
        "        seq.insert(idx, 'G')\n",
        "    return ''.join(seq)\n",
        "\n",
        "def random_replace_with_V(seq, fraction):\n",
        "    seq = list(seq)\n",
        "    n = max(1, int(len(seq) * fraction))\n",
        "    indices = random.sample(range(len(seq)), n)\n",
        "    for i in indices:\n",
        "        seq[i] = 'V'\n",
        "    return ''.join(seq)\n",
        "\n",
        "def random_insertion_with_V(seq, fraction):\n",
        "    seq = list(seq)\n",
        "    n = max(1, int(len(seq) * fraction))\n",
        "    for _ in range(n):\n",
        "        idx = random.randint(0, len(seq))\n",
        "        seq.insert(idx, 'V')\n",
        "    return ''.join(seq)\n",
        "\n",
        "def random_replace_with_I(seq, fraction):\n",
        "    seq = list(seq)\n",
        "    n = max(1, int(len(seq) * fraction))\n",
        "    indices = random.sample(range(len(seq)), n)\n",
        "    for i in indices:\n",
        "        seq[i] = 'I'\n",
        "    return ''.join(seq)\n",
        "\n",
        "def random_insertion_with_I(seq, fraction):\n",
        "    seq = list(seq)\n",
        "    n = max(1, int(len(seq) * fraction))\n",
        "    for _ in range(n):\n",
        "        idx = random.randint(0, len(seq))\n",
        "        seq.insert(idx, 'I')\n",
        "    return ''.join(seq)\n",
        "\n",
        "def random_replace_with_L(seq, fraction):\n",
        "    seq = list(seq)\n",
        "    n = max(1, int(len(seq) * fraction))\n",
        "    indices = random.sample(range(len(seq)), n)\n",
        "    for i in indices:\n",
        "        seq[i] = 'L'\n",
        "    return ''.join(seq)\n",
        "\n",
        "def random_insertion_with_L(seq, fraction):\n",
        "    seq = list(seq)\n",
        "    n = max(1, int(len(seq) * fraction))\n",
        "    for _ in range(n):\n",
        "        idx = random.randint(0, len(seq))\n",
        "        seq.insert(idx, 'L')\n",
        "    return ''.join(seq)\n",
        "\n",
        "def apply_augmentation(df, func, fraction, output_filename):\n",
        "    augmented_df = df.copy()\n",
        "    augmented_df[\"sequence\"] = df[\"sequence\"].apply(lambda x: func(x.replace(\" \", \"\"), fraction))\n",
        "    augmented_df.to_csv(output_filename, index=False)\n",
        "    print(f\"Saved: {output_filename}\")\n",
        "\n",
        "def main(csv_path, fraction=0.1):\n",
        "    df = pd.read_csv(csv_path)\n",
        "\n",
        "    os.makedirs(\"augmented_csvs\", exist_ok=True)\n",
        "\n",
        "    augmented_files = [\n",
        "        \"augmented_csvs/random_replace.csv\",\n",
        "        \"augmented_csvs/random_delete.csv\",\n",
        "        \"augmented_csvs/random_replace_with_A.csv\",\n",
        "        \"augmented_csvs/random_swap.csv\",\n",
        "        \"augmented_csvs/random_insertion_with_A.csv\",\n",
        "        \"augmented_csvs/random_replace_with_G.csv\",\n",
        "        \"augmented_csvs/random_insertion_with_G.csv\",\n",
        "        \"augmented_csvs/random_replace_with_V.csv\",\n",
        "        \"augmented_csvs/random_insertion_with_V.csv\",\n",
        "        \"augmented_csvs/random_replace_with_I.csv\",\n",
        "        \"augmented_csvs/random_insertion_with_I.csv\",\n",
        "        \"augmented_csvs/random_replace_with_L.csv\",\n",
        "        \"augmented_csvs/random_insertion_with_L.csv\"\n",
        "    ]\n",
        "\n",
        "    for output_file in augmented_files:\n",
        "        apply_augmentation(df, globals()[output_file.split(\"/\")[1].split(\".\")[0]], fraction, output_file)\n",
        "\n",
        "    # Download the generated files\n",
        "    for file_to_download in augmented_files:\n",
        "        if os.path.exists(file_to_download):\n",
        "            files.download(file_to_download)\n",
        "            print(f\"Downloaded: {file_to_download}\")\n",
        "        else:\n",
        "            print(f\"File not found: {file_to_download}\")\n",
        "\n",
        "\n",
        "if __name__ == \"__main__\":\n",
        "    main(\"anticancer.csv\", fraction=0.1) # change \"peptides.csv\" to your input file path"
      ],
      "metadata": {
        "colab": {
          "base_uri": "https://localhost:8080/",
          "height": 468
        },
        "id": "lFLgPIV34Mz3",
        "outputId": "64af812a-a829-48a1-e0e9-c33f88cac6d2"
      },
      "execution_count": 1,
      "outputs": [
        {
          "output_type": "stream",
          "name": "stdout",
          "text": [
            "Saved: augmented_csvs/random_replace.csv\n",
            "Saved: augmented_csvs/random_delete.csv\n",
            "Saved: augmented_csvs/random_replace_with_A.csv\n",
            "Saved: augmented_csvs/random_swap.csv\n",
            "Saved: augmented_csvs/random_insertion_with_A.csv\n",
            "Saved: augmented_csvs/random_replace_with_G.csv\n",
            "Saved: augmented_csvs/random_insertion_with_G.csv\n",
            "Saved: augmented_csvs/random_replace_with_V.csv\n",
            "Saved: augmented_csvs/random_insertion_with_V.csv\n",
            "Saved: augmented_csvs/random_replace_with_I.csv\n",
            "Saved: augmented_csvs/random_insertion_with_I.csv\n",
            "Saved: augmented_csvs/random_replace_with_L.csv\n",
            "Saved: augmented_csvs/random_insertion_with_L.csv\n"
          ]
        },
        {
          "output_type": "display_data",
          "data": {
            "text/plain": [
              "<IPython.core.display.Javascript object>"
            ],
            "application/javascript": [
              "\n",
              "    async function download(id, filename, size) {\n",
              "      if (!google.colab.kernel.accessAllowed) {\n",
              "        return;\n",
              "      }\n",
              "      const div = document.createElement('div');\n",
              "      const label = document.createElement('label');\n",
              "      label.textContent = `Downloading \"${filename}\": `;\n",
              "      div.appendChild(label);\n",
              "      const progress = document.createElement('progress');\n",
              "      progress.max = size;\n",
              "      div.appendChild(progress);\n",
              "      document.body.appendChild(div);\n",
              "\n",
              "      const buffers = [];\n",
              "      let downloaded = 0;\n",
              "\n",
              "      const channel = await google.colab.kernel.comms.open(id);\n",
              "      // Send a message to notify the kernel that we're ready.\n",
              "      channel.send({})\n",
              "\n",
              "      for await (const message of channel.messages) {\n",
              "        // Send a message to notify the kernel that we're ready.\n",
              "        channel.send({})\n",
              "        if (message.buffers) {\n",
              "          for (const buffer of message.buffers) {\n",
              "            buffers.push(buffer);\n",
              "            downloaded += buffer.byteLength;\n",
              "            progress.value = downloaded;\n",
              "          }\n",
              "        }\n",
              "      }\n",
              "      const blob = new Blob(buffers, {type: 'application/binary'});\n",
              "      const a = document.createElement('a');\n",
              "      a.href = window.URL.createObjectURL(blob);\n",
              "      a.download = filename;\n",
              "      div.appendChild(a);\n",
              "      a.click();\n",
              "      div.remove();\n",
              "    }\n",
              "  "
            ]
          },
          "metadata": {}
        },
        {
          "output_type": "display_data",
          "data": {
            "text/plain": [
              "<IPython.core.display.Javascript object>"
            ],
            "application/javascript": [
              "download(\"download_663c8403-32d9-436c-9562-9719893c0c2f\", \"random_replace.csv\", 46192)"
            ]
          },
          "metadata": {}
        },
        {
          "output_type": "stream",
          "name": "stdout",
          "text": [
            "Downloaded: augmented_csvs/random_replace.csv\n"
          ]
        },
        {
          "output_type": "display_data",
          "data": {
            "text/plain": [
              "<IPython.core.display.Javascript object>"
            ],
            "application/javascript": [
              "\n",
              "    async function download(id, filename, size) {\n",
              "      if (!google.colab.kernel.accessAllowed) {\n",
              "        return;\n",
              "      }\n",
              "      const div = document.createElement('div');\n",
              "      const label = document.createElement('label');\n",
              "      label.textContent = `Downloading \"${filename}\": `;\n",
              "      div.appendChild(label);\n",
              "      const progress = document.createElement('progress');\n",
              "      progress.max = size;\n",
              "      div.appendChild(progress);\n",
              "      document.body.appendChild(div);\n",
              "\n",
              "      const buffers = [];\n",
              "      let downloaded = 0;\n",
              "\n",
              "      const channel = await google.colab.kernel.comms.open(id);\n",
              "      // Send a message to notify the kernel that we're ready.\n",
              "      channel.send({})\n",
              "\n",
              "      for await (const message of channel.messages) {\n",
              "        // Send a message to notify the kernel that we're ready.\n",
              "        channel.send({})\n",
              "        if (message.buffers) {\n",
              "          for (const buffer of message.buffers) {\n",
              "            buffers.push(buffer);\n",
              "            downloaded += buffer.byteLength;\n",
              "            progress.value = downloaded;\n",
              "          }\n",
              "        }\n",
              "      }\n",
              "      const blob = new Blob(buffers, {type: 'application/binary'});\n",
              "      const a = document.createElement('a');\n",
              "      a.href = window.URL.createObjectURL(blob);\n",
              "      a.download = filename;\n",
              "      div.appendChild(a);\n",
              "      a.click();\n",
              "      div.remove();\n",
              "    }\n",
              "  "
            ]
          },
          "metadata": {}
        },
        {
          "output_type": "display_data",
          "data": {
            "text/plain": [
              "<IPython.core.display.Javascript object>"
            ],
            "application/javascript": [
              "download(\"download_f4c2fd1e-24f7-4e99-b3dc-083addea5c28\", \"random_delete.csv\", 42742)"
            ]
          },
          "metadata": {}
        },
        {
          "output_type": "stream",
          "name": "stdout",
          "text": [
            "Downloaded: augmented_csvs/random_delete.csv\n"
          ]
        },
        {
          "output_type": "display_data",
          "data": {
            "text/plain": [
              "<IPython.core.display.Javascript object>"
            ],
            "application/javascript": [
              "\n",
              "    async function download(id, filename, size) {\n",
              "      if (!google.colab.kernel.accessAllowed) {\n",
              "        return;\n",
              "      }\n",
              "      const div = document.createElement('div');\n",
              "      const label = document.createElement('label');\n",
              "      label.textContent = `Downloading \"${filename}\": `;\n",
              "      div.appendChild(label);\n",
              "      const progress = document.createElement('progress');\n",
              "      progress.max = size;\n",
              "      div.appendChild(progress);\n",
              "      document.body.appendChild(div);\n",
              "\n",
              "      const buffers = [];\n",
              "      let downloaded = 0;\n",
              "\n",
              "      const channel = await google.colab.kernel.comms.open(id);\n",
              "      // Send a message to notify the kernel that we're ready.\n",
              "      channel.send({})\n",
              "\n",
              "      for await (const message of channel.messages) {\n",
              "        // Send a message to notify the kernel that we're ready.\n",
              "        channel.send({})\n",
              "        if (message.buffers) {\n",
              "          for (const buffer of message.buffers) {\n",
              "            buffers.push(buffer);\n",
              "            downloaded += buffer.byteLength;\n",
              "            progress.value = downloaded;\n",
              "          }\n",
              "        }\n",
              "      }\n",
              "      const blob = new Blob(buffers, {type: 'application/binary'});\n",
              "      const a = document.createElement('a');\n",
              "      a.href = window.URL.createObjectURL(blob);\n",
              "      a.download = filename;\n",
              "      div.appendChild(a);\n",
              "      a.click();\n",
              "      div.remove();\n",
              "    }\n",
              "  "
            ]
          },
          "metadata": {}
        },
        {
          "output_type": "display_data",
          "data": {
            "text/plain": [
              "<IPython.core.display.Javascript object>"
            ],
            "application/javascript": [
              "download(\"download_854654ba-3dc2-482c-8d4c-1e59fcb0ded4\", \"random_replace_with_A.csv\", 46192)"
            ]
          },
          "metadata": {}
        },
        {
          "output_type": "stream",
          "name": "stdout",
          "text": [
            "Downloaded: augmented_csvs/random_replace_with_A.csv\n"
          ]
        },
        {
          "output_type": "display_data",
          "data": {
            "text/plain": [
              "<IPython.core.display.Javascript object>"
            ],
            "application/javascript": [
              "\n",
              "    async function download(id, filename, size) {\n",
              "      if (!google.colab.kernel.accessAllowed) {\n",
              "        return;\n",
              "      }\n",
              "      const div = document.createElement('div');\n",
              "      const label = document.createElement('label');\n",
              "      label.textContent = `Downloading \"${filename}\": `;\n",
              "      div.appendChild(label);\n",
              "      const progress = document.createElement('progress');\n",
              "      progress.max = size;\n",
              "      div.appendChild(progress);\n",
              "      document.body.appendChild(div);\n",
              "\n",
              "      const buffers = [];\n",
              "      let downloaded = 0;\n",
              "\n",
              "      const channel = await google.colab.kernel.comms.open(id);\n",
              "      // Send a message to notify the kernel that we're ready.\n",
              "      channel.send({})\n",
              "\n",
              "      for await (const message of channel.messages) {\n",
              "        // Send a message to notify the kernel that we're ready.\n",
              "        channel.send({})\n",
              "        if (message.buffers) {\n",
              "          for (const buffer of message.buffers) {\n",
              "            buffers.push(buffer);\n",
              "            downloaded += buffer.byteLength;\n",
              "            progress.value = downloaded;\n",
              "          }\n",
              "        }\n",
              "      }\n",
              "      const blob = new Blob(buffers, {type: 'application/binary'});\n",
              "      const a = document.createElement('a');\n",
              "      a.href = window.URL.createObjectURL(blob);\n",
              "      a.download = filename;\n",
              "      div.appendChild(a);\n",
              "      a.click();\n",
              "      div.remove();\n",
              "    }\n",
              "  "
            ]
          },
          "metadata": {}
        },
        {
          "output_type": "display_data",
          "data": {
            "text/plain": [
              "<IPython.core.display.Javascript object>"
            ],
            "application/javascript": [
              "download(\"download_0d163cb7-a493-4e6d-a33d-3274089cad74\", \"random_swap.csv\", 46192)"
            ]
          },
          "metadata": {}
        },
        {
          "output_type": "stream",
          "name": "stdout",
          "text": [
            "Downloaded: augmented_csvs/random_swap.csv\n"
          ]
        },
        {
          "output_type": "display_data",
          "data": {
            "text/plain": [
              "<IPython.core.display.Javascript object>"
            ],
            "application/javascript": [
              "\n",
              "    async function download(id, filename, size) {\n",
              "      if (!google.colab.kernel.accessAllowed) {\n",
              "        return;\n",
              "      }\n",
              "      const div = document.createElement('div');\n",
              "      const label = document.createElement('label');\n",
              "      label.textContent = `Downloading \"${filename}\": `;\n",
              "      div.appendChild(label);\n",
              "      const progress = document.createElement('progress');\n",
              "      progress.max = size;\n",
              "      div.appendChild(progress);\n",
              "      document.body.appendChild(div);\n",
              "\n",
              "      const buffers = [];\n",
              "      let downloaded = 0;\n",
              "\n",
              "      const channel = await google.colab.kernel.comms.open(id);\n",
              "      // Send a message to notify the kernel that we're ready.\n",
              "      channel.send({})\n",
              "\n",
              "      for await (const message of channel.messages) {\n",
              "        // Send a message to notify the kernel that we're ready.\n",
              "        channel.send({})\n",
              "        if (message.buffers) {\n",
              "          for (const buffer of message.buffers) {\n",
              "            buffers.push(buffer);\n",
              "            downloaded += buffer.byteLength;\n",
              "            progress.value = downloaded;\n",
              "          }\n",
              "        }\n",
              "      }\n",
              "      const blob = new Blob(buffers, {type: 'application/binary'});\n",
              "      const a = document.createElement('a');\n",
              "      a.href = window.URL.createObjectURL(blob);\n",
              "      a.download = filename;\n",
              "      div.appendChild(a);\n",
              "      a.click();\n",
              "      div.remove();\n",
              "    }\n",
              "  "
            ]
          },
          "metadata": {}
        },
        {
          "output_type": "display_data",
          "data": {
            "text/plain": [
              "<IPython.core.display.Javascript object>"
            ],
            "application/javascript": [
              "download(\"download_f39e42ca-5bd6-4b9c-b144-66757e4673a3\", \"random_insertion_with_A.csv\", 49642)"
            ]
          },
          "metadata": {}
        },
        {
          "output_type": "stream",
          "name": "stdout",
          "text": [
            "Downloaded: augmented_csvs/random_insertion_with_A.csv\n"
          ]
        },
        {
          "output_type": "display_data",
          "data": {
            "text/plain": [
              "<IPython.core.display.Javascript object>"
            ],
            "application/javascript": [
              "\n",
              "    async function download(id, filename, size) {\n",
              "      if (!google.colab.kernel.accessAllowed) {\n",
              "        return;\n",
              "      }\n",
              "      const div = document.createElement('div');\n",
              "      const label = document.createElement('label');\n",
              "      label.textContent = `Downloading \"${filename}\": `;\n",
              "      div.appendChild(label);\n",
              "      const progress = document.createElement('progress');\n",
              "      progress.max = size;\n",
              "      div.appendChild(progress);\n",
              "      document.body.appendChild(div);\n",
              "\n",
              "      const buffers = [];\n",
              "      let downloaded = 0;\n",
              "\n",
              "      const channel = await google.colab.kernel.comms.open(id);\n",
              "      // Send a message to notify the kernel that we're ready.\n",
              "      channel.send({})\n",
              "\n",
              "      for await (const message of channel.messages) {\n",
              "        // Send a message to notify the kernel that we're ready.\n",
              "        channel.send({})\n",
              "        if (message.buffers) {\n",
              "          for (const buffer of message.buffers) {\n",
              "            buffers.push(buffer);\n",
              "            downloaded += buffer.byteLength;\n",
              "            progress.value = downloaded;\n",
              "          }\n",
              "        }\n",
              "      }\n",
              "      const blob = new Blob(buffers, {type: 'application/binary'});\n",
              "      const a = document.createElement('a');\n",
              "      a.href = window.URL.createObjectURL(blob);\n",
              "      a.download = filename;\n",
              "      div.appendChild(a);\n",
              "      a.click();\n",
              "      div.remove();\n",
              "    }\n",
              "  "
            ]
          },
          "metadata": {}
        },
        {
          "output_type": "display_data",
          "data": {
            "text/plain": [
              "<IPython.core.display.Javascript object>"
            ],
            "application/javascript": [
              "download(\"download_75508905-e00e-41aa-b5fc-6595b006c6db\", \"random_replace_with_G.csv\", 46192)"
            ]
          },
          "metadata": {}
        },
        {
          "output_type": "stream",
          "name": "stdout",
          "text": [
            "Downloaded: augmented_csvs/random_replace_with_G.csv\n"
          ]
        },
        {
          "output_type": "display_data",
          "data": {
            "text/plain": [
              "<IPython.core.display.Javascript object>"
            ],
            "application/javascript": [
              "\n",
              "    async function download(id, filename, size) {\n",
              "      if (!google.colab.kernel.accessAllowed) {\n",
              "        return;\n",
              "      }\n",
              "      const div = document.createElement('div');\n",
              "      const label = document.createElement('label');\n",
              "      label.textContent = `Downloading \"${filename}\": `;\n",
              "      div.appendChild(label);\n",
              "      const progress = document.createElement('progress');\n",
              "      progress.max = size;\n",
              "      div.appendChild(progress);\n",
              "      document.body.appendChild(div);\n",
              "\n",
              "      const buffers = [];\n",
              "      let downloaded = 0;\n",
              "\n",
              "      const channel = await google.colab.kernel.comms.open(id);\n",
              "      // Send a message to notify the kernel that we're ready.\n",
              "      channel.send({})\n",
              "\n",
              "      for await (const message of channel.messages) {\n",
              "        // Send a message to notify the kernel that we're ready.\n",
              "        channel.send({})\n",
              "        if (message.buffers) {\n",
              "          for (const buffer of message.buffers) {\n",
              "            buffers.push(buffer);\n",
              "            downloaded += buffer.byteLength;\n",
              "            progress.value = downloaded;\n",
              "          }\n",
              "        }\n",
              "      }\n",
              "      const blob = new Blob(buffers, {type: 'application/binary'});\n",
              "      const a = document.createElement('a');\n",
              "      a.href = window.URL.createObjectURL(blob);\n",
              "      a.download = filename;\n",
              "      div.appendChild(a);\n",
              "      a.click();\n",
              "      div.remove();\n",
              "    }\n",
              "  "
            ]
          },
          "metadata": {}
        },
        {
          "output_type": "display_data",
          "data": {
            "text/plain": [
              "<IPython.core.display.Javascript object>"
            ],
            "application/javascript": [
              "download(\"download_0718661a-c94d-495c-abfd-2ac378c5603a\", \"random_insertion_with_G.csv\", 49642)"
            ]
          },
          "metadata": {}
        },
        {
          "output_type": "stream",
          "name": "stdout",
          "text": [
            "Downloaded: augmented_csvs/random_insertion_with_G.csv\n"
          ]
        },
        {
          "output_type": "display_data",
          "data": {
            "text/plain": [
              "<IPython.core.display.Javascript object>"
            ],
            "application/javascript": [
              "\n",
              "    async function download(id, filename, size) {\n",
              "      if (!google.colab.kernel.accessAllowed) {\n",
              "        return;\n",
              "      }\n",
              "      const div = document.createElement('div');\n",
              "      const label = document.createElement('label');\n",
              "      label.textContent = `Downloading \"${filename}\": `;\n",
              "      div.appendChild(label);\n",
              "      const progress = document.createElement('progress');\n",
              "      progress.max = size;\n",
              "      div.appendChild(progress);\n",
              "      document.body.appendChild(div);\n",
              "\n",
              "      const buffers = [];\n",
              "      let downloaded = 0;\n",
              "\n",
              "      const channel = await google.colab.kernel.comms.open(id);\n",
              "      // Send a message to notify the kernel that we're ready.\n",
              "      channel.send({})\n",
              "\n",
              "      for await (const message of channel.messages) {\n",
              "        // Send a message to notify the kernel that we're ready.\n",
              "        channel.send({})\n",
              "        if (message.buffers) {\n",
              "          for (const buffer of message.buffers) {\n",
              "            buffers.push(buffer);\n",
              "            downloaded += buffer.byteLength;\n",
              "            progress.value = downloaded;\n",
              "          }\n",
              "        }\n",
              "      }\n",
              "      const blob = new Blob(buffers, {type: 'application/binary'});\n",
              "      const a = document.createElement('a');\n",
              "      a.href = window.URL.createObjectURL(blob);\n",
              "      a.download = filename;\n",
              "      div.appendChild(a);\n",
              "      a.click();\n",
              "      div.remove();\n",
              "    }\n",
              "  "
            ]
          },
          "metadata": {}
        },
        {
          "output_type": "display_data",
          "data": {
            "text/plain": [
              "<IPython.core.display.Javascript object>"
            ],
            "application/javascript": [
              "download(\"download_4b19e8c4-e64b-44a1-b4c5-1bd255a6beb6\", \"random_replace_with_V.csv\", 46192)"
            ]
          },
          "metadata": {}
        },
        {
          "output_type": "stream",
          "name": "stdout",
          "text": [
            "Downloaded: augmented_csvs/random_replace_with_V.csv\n"
          ]
        },
        {
          "output_type": "display_data",
          "data": {
            "text/plain": [
              "<IPython.core.display.Javascript object>"
            ],
            "application/javascript": [
              "\n",
              "    async function download(id, filename, size) {\n",
              "      if (!google.colab.kernel.accessAllowed) {\n",
              "        return;\n",
              "      }\n",
              "      const div = document.createElement('div');\n",
              "      const label = document.createElement('label');\n",
              "      label.textContent = `Downloading \"${filename}\": `;\n",
              "      div.appendChild(label);\n",
              "      const progress = document.createElement('progress');\n",
              "      progress.max = size;\n",
              "      div.appendChild(progress);\n",
              "      document.body.appendChild(div);\n",
              "\n",
              "      const buffers = [];\n",
              "      let downloaded = 0;\n",
              "\n",
              "      const channel = await google.colab.kernel.comms.open(id);\n",
              "      // Send a message to notify the kernel that we're ready.\n",
              "      channel.send({})\n",
              "\n",
              "      for await (const message of channel.messages) {\n",
              "        // Send a message to notify the kernel that we're ready.\n",
              "        channel.send({})\n",
              "        if (message.buffers) {\n",
              "          for (const buffer of message.buffers) {\n",
              "            buffers.push(buffer);\n",
              "            downloaded += buffer.byteLength;\n",
              "            progress.value = downloaded;\n",
              "          }\n",
              "        }\n",
              "      }\n",
              "      const blob = new Blob(buffers, {type: 'application/binary'});\n",
              "      const a = document.createElement('a');\n",
              "      a.href = window.URL.createObjectURL(blob);\n",
              "      a.download = filename;\n",
              "      div.appendChild(a);\n",
              "      a.click();\n",
              "      div.remove();\n",
              "    }\n",
              "  "
            ]
          },
          "metadata": {}
        },
        {
          "output_type": "display_data",
          "data": {
            "text/plain": [
              "<IPython.core.display.Javascript object>"
            ],
            "application/javascript": [
              "download(\"download_e5aacce5-6df9-44d0-be90-91df5ea35be9\", \"random_insertion_with_V.csv\", 49642)"
            ]
          },
          "metadata": {}
        },
        {
          "output_type": "stream",
          "name": "stdout",
          "text": [
            "Downloaded: augmented_csvs/random_insertion_with_V.csv\n"
          ]
        },
        {
          "output_type": "display_data",
          "data": {
            "text/plain": [
              "<IPython.core.display.Javascript object>"
            ],
            "application/javascript": [
              "\n",
              "    async function download(id, filename, size) {\n",
              "      if (!google.colab.kernel.accessAllowed) {\n",
              "        return;\n",
              "      }\n",
              "      const div = document.createElement('div');\n",
              "      const label = document.createElement('label');\n",
              "      label.textContent = `Downloading \"${filename}\": `;\n",
              "      div.appendChild(label);\n",
              "      const progress = document.createElement('progress');\n",
              "      progress.max = size;\n",
              "      div.appendChild(progress);\n",
              "      document.body.appendChild(div);\n",
              "\n",
              "      const buffers = [];\n",
              "      let downloaded = 0;\n",
              "\n",
              "      const channel = await google.colab.kernel.comms.open(id);\n",
              "      // Send a message to notify the kernel that we're ready.\n",
              "      channel.send({})\n",
              "\n",
              "      for await (const message of channel.messages) {\n",
              "        // Send a message to notify the kernel that we're ready.\n",
              "        channel.send({})\n",
              "        if (message.buffers) {\n",
              "          for (const buffer of message.buffers) {\n",
              "            buffers.push(buffer);\n",
              "            downloaded += buffer.byteLength;\n",
              "            progress.value = downloaded;\n",
              "          }\n",
              "        }\n",
              "      }\n",
              "      const blob = new Blob(buffers, {type: 'application/binary'});\n",
              "      const a = document.createElement('a');\n",
              "      a.href = window.URL.createObjectURL(blob);\n",
              "      a.download = filename;\n",
              "      div.appendChild(a);\n",
              "      a.click();\n",
              "      div.remove();\n",
              "    }\n",
              "  "
            ]
          },
          "metadata": {}
        },
        {
          "output_type": "display_data",
          "data": {
            "text/plain": [
              "<IPython.core.display.Javascript object>"
            ],
            "application/javascript": [
              "download(\"download_8b5925ff-49e1-4fd6-a76e-bdcdd4312e35\", \"random_replace_with_I.csv\", 46192)"
            ]
          },
          "metadata": {}
        },
        {
          "output_type": "stream",
          "name": "stdout",
          "text": [
            "Downloaded: augmented_csvs/random_replace_with_I.csv\n"
          ]
        },
        {
          "output_type": "display_data",
          "data": {
            "text/plain": [
              "<IPython.core.display.Javascript object>"
            ],
            "application/javascript": [
              "\n",
              "    async function download(id, filename, size) {\n",
              "      if (!google.colab.kernel.accessAllowed) {\n",
              "        return;\n",
              "      }\n",
              "      const div = document.createElement('div');\n",
              "      const label = document.createElement('label');\n",
              "      label.textContent = `Downloading \"${filename}\": `;\n",
              "      div.appendChild(label);\n",
              "      const progress = document.createElement('progress');\n",
              "      progress.max = size;\n",
              "      div.appendChild(progress);\n",
              "      document.body.appendChild(div);\n",
              "\n",
              "      const buffers = [];\n",
              "      let downloaded = 0;\n",
              "\n",
              "      const channel = await google.colab.kernel.comms.open(id);\n",
              "      // Send a message to notify the kernel that we're ready.\n",
              "      channel.send({})\n",
              "\n",
              "      for await (const message of channel.messages) {\n",
              "        // Send a message to notify the kernel that we're ready.\n",
              "        channel.send({})\n",
              "        if (message.buffers) {\n",
              "          for (const buffer of message.buffers) {\n",
              "            buffers.push(buffer);\n",
              "            downloaded += buffer.byteLength;\n",
              "            progress.value = downloaded;\n",
              "          }\n",
              "        }\n",
              "      }\n",
              "      const blob = new Blob(buffers, {type: 'application/binary'});\n",
              "      const a = document.createElement('a');\n",
              "      a.href = window.URL.createObjectURL(blob);\n",
              "      a.download = filename;\n",
              "      div.appendChild(a);\n",
              "      a.click();\n",
              "      div.remove();\n",
              "    }\n",
              "  "
            ]
          },
          "metadata": {}
        },
        {
          "output_type": "display_data",
          "data": {
            "text/plain": [
              "<IPython.core.display.Javascript object>"
            ],
            "application/javascript": [
              "download(\"download_2f49286d-543f-4c2e-99e6-af38244786e9\", \"random_insertion_with_I.csv\", 49642)"
            ]
          },
          "metadata": {}
        },
        {
          "output_type": "stream",
          "name": "stdout",
          "text": [
            "Downloaded: augmented_csvs/random_insertion_with_I.csv\n"
          ]
        },
        {
          "output_type": "display_data",
          "data": {
            "text/plain": [
              "<IPython.core.display.Javascript object>"
            ],
            "application/javascript": [
              "\n",
              "    async function download(id, filename, size) {\n",
              "      if (!google.colab.kernel.accessAllowed) {\n",
              "        return;\n",
              "      }\n",
              "      const div = document.createElement('div');\n",
              "      const label = document.createElement('label');\n",
              "      label.textContent = `Downloading \"${filename}\": `;\n",
              "      div.appendChild(label);\n",
              "      const progress = document.createElement('progress');\n",
              "      progress.max = size;\n",
              "      div.appendChild(progress);\n",
              "      document.body.appendChild(div);\n",
              "\n",
              "      const buffers = [];\n",
              "      let downloaded = 0;\n",
              "\n",
              "      const channel = await google.colab.kernel.comms.open(id);\n",
              "      // Send a message to notify the kernel that we're ready.\n",
              "      channel.send({})\n",
              "\n",
              "      for await (const message of channel.messages) {\n",
              "        // Send a message to notify the kernel that we're ready.\n",
              "        channel.send({})\n",
              "        if (message.buffers) {\n",
              "          for (const buffer of message.buffers) {\n",
              "            buffers.push(buffer);\n",
              "            downloaded += buffer.byteLength;\n",
              "            progress.value = downloaded;\n",
              "          }\n",
              "        }\n",
              "      }\n",
              "      const blob = new Blob(buffers, {type: 'application/binary'});\n",
              "      const a = document.createElement('a');\n",
              "      a.href = window.URL.createObjectURL(blob);\n",
              "      a.download = filename;\n",
              "      div.appendChild(a);\n",
              "      a.click();\n",
              "      div.remove();\n",
              "    }\n",
              "  "
            ]
          },
          "metadata": {}
        },
        {
          "output_type": "display_data",
          "data": {
            "text/plain": [
              "<IPython.core.display.Javascript object>"
            ],
            "application/javascript": [
              "download(\"download_f98a265b-c629-48f0-b3ca-ee9bfbfc23af\", \"random_replace_with_L.csv\", 46192)"
            ]
          },
          "metadata": {}
        },
        {
          "output_type": "stream",
          "name": "stdout",
          "text": [
            "Downloaded: augmented_csvs/random_replace_with_L.csv\n"
          ]
        },
        {
          "output_type": "display_data",
          "data": {
            "text/plain": [
              "<IPython.core.display.Javascript object>"
            ],
            "application/javascript": [
              "\n",
              "    async function download(id, filename, size) {\n",
              "      if (!google.colab.kernel.accessAllowed) {\n",
              "        return;\n",
              "      }\n",
              "      const div = document.createElement('div');\n",
              "      const label = document.createElement('label');\n",
              "      label.textContent = `Downloading \"${filename}\": `;\n",
              "      div.appendChild(label);\n",
              "      const progress = document.createElement('progress');\n",
              "      progress.max = size;\n",
              "      div.appendChild(progress);\n",
              "      document.body.appendChild(div);\n",
              "\n",
              "      const buffers = [];\n",
              "      let downloaded = 0;\n",
              "\n",
              "      const channel = await google.colab.kernel.comms.open(id);\n",
              "      // Send a message to notify the kernel that we're ready.\n",
              "      channel.send({})\n",
              "\n",
              "      for await (const message of channel.messages) {\n",
              "        // Send a message to notify the kernel that we're ready.\n",
              "        channel.send({})\n",
              "        if (message.buffers) {\n",
              "          for (const buffer of message.buffers) {\n",
              "            buffers.push(buffer);\n",
              "            downloaded += buffer.byteLength;\n",
              "            progress.value = downloaded;\n",
              "          }\n",
              "        }\n",
              "      }\n",
              "      const blob = new Blob(buffers, {type: 'application/binary'});\n",
              "      const a = document.createElement('a');\n",
              "      a.href = window.URL.createObjectURL(blob);\n",
              "      a.download = filename;\n",
              "      div.appendChild(a);\n",
              "      a.click();\n",
              "      div.remove();\n",
              "    }\n",
              "  "
            ]
          },
          "metadata": {}
        },
        {
          "output_type": "display_data",
          "data": {
            "text/plain": [
              "<IPython.core.display.Javascript object>"
            ],
            "application/javascript": [
              "download(\"download_b4e36542-116e-437d-a088-1863848e5335\", \"random_insertion_with_L.csv\", 49642)"
            ]
          },
          "metadata": {}
        },
        {
          "output_type": "stream",
          "name": "stdout",
          "text": [
            "Downloaded: augmented_csvs/random_insertion_with_L.csv\n"
          ]
        }
      ]
    },
    {
      "cell_type": "code",
      "source": [
        "import pandas as pd\n",
        "import os\n",
        "\n",
        "# List of the generated augmented CSV files\n",
        "augmented_files = [\n",
        "    \"augmented_csvs/random_replace.csv\",\n",
        "    \"augmented_csvs/random_delete.csv\",\n",
        "    \"augmented_csvs/random_replace_with_A.csv\",\n",
        "    \"augmented_csvs/random_swap.csv\",\n",
        "    \"augmented_csvs/random_insertion_with_A.csv\",\n",
        "    \"augmented_csvs/random_replace_with_G.csv\",\n",
        "    \"augmented_csvs/random_insertion_with_G.csv\",\n",
        "    \"augmented_csvs/random_replace_with_V.csv\",\n",
        "    \"augmented_csvs/random_insertion_with_V.csv\",\n",
        "    \"augmented_csvs/random_replace_with_I.csv\",\n",
        "    \"augmented_csvs/random_insertion_with_I.csv\",\n",
        "    \"augmented_csvs/random_replace_with_L.csv\",\n",
        "    \"augmented_csvs/random_insertion_with_L.csv\"\n",
        "]\n",
        "\n",
        "# Initialize an empty DataFrame to store the merged data\n",
        "merged_df = pd.DataFrame()\n",
        "\n",
        "# Flag to check if it's the first file\n",
        "first_file = True\n",
        "\n",
        "for file_path in augmented_files:\n",
        "    if os.path.exists(file_path):\n",
        "        if first_file:\n",
        "            # Read the first file with the header\n",
        "            merged_df = pd.read_csv(file_path)\n",
        "            first_file = False\n",
        "        else:\n",
        "            # Read the rest of the files without the header and append\n",
        "            temp_df = pd.read_csv(file_path, header=None)\n",
        "            # Assign column names from the first DataFrame's columns\n",
        "            temp_df.columns = merged_df.columns\n",
        "            merged_df = pd.concat([merged_df, temp_df], ignore_index=True)\n",
        "        print(f\"Processed: {file_path}\")\n",
        "    else:\n",
        "        print(f\"File not found, skipping: {file_path}\")\n",
        "\n",
        "initial_row_count = len(merged_df)\n",
        "merged_df_cleaned = merged_df.drop_duplicates()\n",
        "rows_dropped = initial_row_count - len(merged_df_cleaned)\n",
        "\n",
        "print(f\"Initial row count: {initial_row_count}\")\n",
        "print(f\"Row count after dropping duplicates: {len(merged_df_cleaned)}\")\n",
        "print(f\"Number of rows dropped: {rows_dropped}\")\n",
        "\n",
        "# Save the merged DataFrame to a new CSV file\n",
        "output_merged_file = \"augmented_csvs/anticancer_augmented_data.csv\"\n",
        "merged_df_cleaned.to_csv(output_merged_file, index=False)\n",
        "print(f\"Merged data saved to: {output_merged_file}\")"
      ],
      "metadata": {
        "colab": {
          "base_uri": "https://localhost:8080/"
        },
        "id": "HsSd4FFfcu6y",
        "outputId": "46fd2e7e-6097-42e4-f682-cdc88abc7a41"
      },
      "execution_count": 2,
      "outputs": [
        {
          "output_type": "stream",
          "name": "stdout",
          "text": [
            "Processed: augmented_csvs/random_replace.csv\n",
            "Processed: augmented_csvs/random_delete.csv\n",
            "Processed: augmented_csvs/random_replace_with_A.csv\n",
            "Processed: augmented_csvs/random_swap.csv\n",
            "Processed: augmented_csvs/random_insertion_with_A.csv\n",
            "Processed: augmented_csvs/random_replace_with_G.csv\n",
            "Processed: augmented_csvs/random_insertion_with_G.csv\n",
            "Processed: augmented_csvs/random_replace_with_V.csv\n",
            "Processed: augmented_csvs/random_insertion_with_V.csv\n",
            "Processed: augmented_csvs/random_replace_with_I.csv\n",
            "Processed: augmented_csvs/random_insertion_with_I.csv\n",
            "Processed: augmented_csvs/random_replace_with_L.csv\n",
            "Processed: augmented_csvs/random_insertion_with_L.csv\n",
            "Initial row count: 22398\n",
            "Row count after dropping duplicates: 22264\n",
            "Number of rows dropped: 134\n",
            "Merged data saved to: augmented_csvs/anticancer_augmented_data.csv\n"
          ]
        }
      ]
    },
    {
      "cell_type": "code",
      "source": [
        "import pandas as pd\n",
        "\n",
        "data = pd.read_csv(\"anticancer_augmented_data.csv\")\n",
        "\n",
        "counts = data['anticancer'].value_counts()\n",
        "print(counts)"
      ],
      "metadata": {
        "colab": {
          "base_uri": "https://localhost:8080/"
        },
        "id": "IkVz-kpe1HHy",
        "outputId": "50f9e078-845a-41f2-ca4d-f56144d2f42f"
      },
      "execution_count": 12,
      "outputs": [
        {
          "output_type": "stream",
          "name": "stdout",
          "text": [
            "anticancer\n",
            "0    11163\n",
            "1    11100\n",
            "Name: count, dtype: int64\n"
          ]
        }
      ]
    },
    {
      "cell_type": "code",
      "source": [
        "initial_row_count = len(data)\n",
        "data_cleaned = data.drop_duplicates()\n",
        "rows_dropped = initial_row_count - len(data_cleaned)\n",
        "\n",
        "print(f\"Initial row count: {initial_row_count}\")\n",
        "print(f\"Row count after dropping duplicates: {len(data_cleaned)}\")\n",
        "print(f\"Number of rows dropped: {rows_dropped}\")"
      ],
      "metadata": {
        "colab": {
          "base_uri": "https://localhost:8080/"
        },
        "id": "fIImaH8u1iHI",
        "outputId": "50b50681-0639-4d15-ad09-7561673fd77f"
      },
      "execution_count": 13,
      "outputs": [
        {
          "output_type": "stream",
          "name": "stdout",
          "text": [
            "Initial row count: 22263\n",
            "Row count after dropping duplicates: 22232\n",
            "Number of rows dropped: 31\n"
          ]
        }
      ]
    },
    {
      "cell_type": "code",
      "source": [
        "data = data_cleaned\n",
        "initial_row_count = len(data)\n",
        "data_cleaned = data.drop_duplicates()\n",
        "rows_dropped = initial_row_count - len(data_cleaned)\n",
        "\n",
        "print(f\"Initial row count: {initial_row_count}\")\n",
        "print(f\"Row count after dropping duplicates: {len(data_cleaned)}\")\n",
        "print(f\"Number of rows dropped: {rows_dropped}\")"
      ],
      "metadata": {
        "colab": {
          "base_uri": "https://localhost:8080/"
        },
        "id": "Aumnce7u14Pp",
        "outputId": "cb4709bb-3f47-4d2e-dfb5-5c42345821a6"
      },
      "execution_count": 14,
      "outputs": [
        {
          "output_type": "stream",
          "name": "stdout",
          "text": [
            "Initial row count: 22232\n",
            "Row count after dropping duplicates: 22232\n",
            "Number of rows dropped: 0\n"
          ]
        }
      ]
    },
    {
      "cell_type": "code",
      "source": [
        "data = data_cleaned\n",
        "# Separate classes\n",
        "minority_class = data[data['anticancer'] == data['anticancer'].value_counts().idxmin()]\n",
        "majority_class = data[data['anticancer'] == data['anticancer'].value_counts().idxmax()]\n",
        "\n",
        "# Undersample majority class\n",
        "majority_class_sampled = majority_class.sample(n=len(minority_class), random_state=42)\n",
        "\n",
        "# Combine the balanced classes\n",
        "balanced_data = pd.concat([minority_class, majority_class_sampled])\n",
        "\n",
        "# Shuffle the balanced data\n",
        "balanced_data = balanced_data.sample(frac=1, random_state=42).reset_index(drop=True)\n",
        "\n",
        "counts = balanced_data['anticancer'].value_counts()\n",
        "print(counts)"
      ],
      "metadata": {
        "colab": {
          "base_uri": "https://localhost:8080/"
        },
        "id": "LrM6ZAGO2F9W",
        "outputId": "d54114a4-9888-427a-9591-5f5b59d74b34"
      },
      "execution_count": 15,
      "outputs": [
        {
          "output_type": "stream",
          "name": "stdout",
          "text": [
            "anticancer\n",
            "1    11085\n",
            "0    11085\n",
            "Name: count, dtype: int64\n"
          ]
        }
      ]
    },
    {
      "cell_type": "code",
      "source": [
        "balanced_data.to_csv('anticancer_augmented_balanced_data.csv', index=False)"
      ],
      "metadata": {
        "id": "fXkF5TzyY5sy"
      },
      "execution_count": 19,
      "outputs": []
    }
  ]
}