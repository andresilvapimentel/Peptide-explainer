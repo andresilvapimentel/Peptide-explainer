{
  "cells": [
    {
      "cell_type": "code",
      "execution_count": null,
      "metadata": {
        "id": "jdqzpG_U78GR",
        "outputId": "4c31527b-e4e3-4279-c9c0-61abcab4e678"
      },
      "outputs": [
        {
          "name": "stdout",
          "output_type": "stream",
          "text": [
            "Defaulting to user installation because normal site-packages is not writeable\n",
            "Requirement already satisfied: fair-esm in /home/molecular16/.local/lib/python3.11/site-packages (2.0.0)\n",
            "Requirement already satisfied: torch in /home/molecular16/.local/lib/python3.11/site-packages (2.7.1)\n",
            "Requirement already satisfied: filelock in /home/molecular16/anaconda3/lib/python3.11/site-packages (from torch) (3.9.0)\n",
            "Requirement already satisfied: typing-extensions>=4.10.0 in /home/molecular16/.local/lib/python3.11/site-packages (from torch) (4.14.1)\n",
            "Requirement already satisfied: sympy>=1.13.3 in /home/molecular16/.local/lib/python3.11/site-packages (from torch) (1.14.0)\n",
            "Requirement already satisfied: networkx in /home/molecular16/anaconda3/lib/python3.11/site-packages (from torch) (3.1)\n",
            "Requirement already satisfied: jinja2 in /home/molecular16/anaconda3/lib/python3.11/site-packages (from torch) (3.1.2)\n",
            "Requirement already satisfied: fsspec in /home/molecular16/anaconda3/lib/python3.11/site-packages (from torch) (2023.4.0)\n",
            "Requirement already satisfied: nvidia-cuda-nvrtc-cu12==12.6.77 in /home/molecular16/.local/lib/python3.11/site-packages (from torch) (12.6.77)\n",
            "Requirement already satisfied: nvidia-cuda-runtime-cu12==12.6.77 in /home/molecular16/.local/lib/python3.11/site-packages (from torch) (12.6.77)\n",
            "Requirement already satisfied: nvidia-cuda-cupti-cu12==12.6.80 in /home/molecular16/.local/lib/python3.11/site-packages (from torch) (12.6.80)\n",
            "Requirement already satisfied: nvidia-cudnn-cu12==9.5.1.17 in /home/molecular16/.local/lib/python3.11/site-packages (from torch) (9.5.1.17)\n",
            "Requirement already satisfied: nvidia-cublas-cu12==12.6.4.1 in /home/molecular16/.local/lib/python3.11/site-packages (from torch) (12.6.4.1)\n",
            "Requirement already satisfied: nvidia-cufft-cu12==11.3.0.4 in /home/molecular16/.local/lib/python3.11/site-packages (from torch) (11.3.0.4)\n",
            "Requirement already satisfied: nvidia-curand-cu12==10.3.7.77 in /home/molecular16/.local/lib/python3.11/site-packages (from torch) (10.3.7.77)\n",
            "Requirement already satisfied: nvidia-cusolver-cu12==11.7.1.2 in /home/molecular16/.local/lib/python3.11/site-packages (from torch) (11.7.1.2)\n",
            "Requirement already satisfied: nvidia-cusparse-cu12==12.5.4.2 in /home/molecular16/.local/lib/python3.11/site-packages (from torch) (12.5.4.2)\n",
            "Requirement already satisfied: nvidia-cusparselt-cu12==0.6.3 in /home/molecular16/.local/lib/python3.11/site-packages (from torch) (0.6.3)\n",
            "Requirement already satisfied: nvidia-nccl-cu12==2.26.2 in /home/molecular16/.local/lib/python3.11/site-packages (from torch) (2.26.2)\n",
            "Requirement already satisfied: nvidia-nvtx-cu12==12.6.77 in /home/molecular16/.local/lib/python3.11/site-packages (from torch) (12.6.77)\n",
            "Requirement already satisfied: nvidia-nvjitlink-cu12==12.6.85 in /home/molecular16/.local/lib/python3.11/site-packages (from torch) (12.6.85)\n",
            "Requirement already satisfied: nvidia-cufile-cu12==1.11.1.6 in /home/molecular16/.local/lib/python3.11/site-packages (from torch) (1.11.1.6)\n",
            "Requirement already satisfied: triton==3.3.1 in /home/molecular16/.local/lib/python3.11/site-packages (from torch) (3.3.1)\n",
            "Requirement already satisfied: setuptools>=40.8.0 in /home/molecular16/anaconda3/lib/python3.11/site-packages (from triton==3.3.1->torch) (68.0.0)\n",
            "Requirement already satisfied: mpmath<1.4,>=1.1.0 in /home/molecular16/anaconda3/lib/python3.11/site-packages (from sympy>=1.13.3->torch) (1.3.0)\n",
            "Requirement already satisfied: MarkupSafe>=2.0 in /home/molecular16/anaconda3/lib/python3.11/site-packages (from jinja2->torch) (2.1.1)\n"
          ]
        }
      ],
      "source": [
        "!pip install fair-esm torch"
      ]
    },
    {
      "cell_type": "code",
      "execution_count": null,
      "metadata": {
        "id": "9Ng1VNIh8GP5",
        "outputId": "ccf722ef-5d0c-42b7-c125-57b98d014a6f"
      },
      "outputs": [
        {
          "name": "stdout",
          "output_type": "stream",
          "text": [
            "False\n"
          ]
        }
      ],
      "source": [
        "import torch\n",
        "print(torch.cuda.is_available())"
      ]
    },
    {
      "cell_type": "code",
      "execution_count": null,
      "metadata": {
        "id": "7zXiWoP07zCl"
      },
      "outputs": [],
      "source": [
        "import torch.nn as nn\n",
        "import torch.nn.functional as F\n",
        "from torch.utils.data import Dataset, DataLoader\n",
        "import pandas as pd\n",
        "import numpy as np\n",
        "from tqdm import tqdm\n",
        "from sklearn.metrics import (\n",
        "    accuracy_score, precision_score, recall_score, f1_score,\n",
        "    matthews_corrcoef, cohen_kappa_score\n",
        ")\n",
        "import matplotlib.pyplot as plt\n",
        "import esm\n",
        "import torch\n",
        "from torch.optim.lr_scheduler import ReduceLROnPlateau, CosineAnnealingLR\n",
        "\n",
        "# Load ESM model\n",
        "esm_model, alphabet = esm.pretrained.esm2_t6_8M_UR50D()\n",
        "batch_converter = alphabet.get_batch_converter()\n",
        "esm_model.eval()\n",
        "\n",
        "# Dataset Class with data augmentation\n",
        "class PeptideDataset(Dataset):\n",
        "    def __init__(self, csv_file, augment=False):\n",
        "        df = pd.read_csv(csv_file)\n",
        "        self.sequences = df['sequence'].astype(str).tolist()\n",
        "        self.labels = df['hemolytic'].tolist()\n",
        "        self.augment = augment\n",
        "\n",
        "    def __len__(self):\n",
        "        return len(self.sequences)\n",
        "\n",
        "    def __getitem__(self, idx):\n",
        "        seq = self.sequences[idx]\n",
        "        label = self.labels[idx]\n",
        "\n",
        "        # Simple data augmentation - reverse sequence\n",
        "        if self.augment and torch.rand(1).item() > 0.5:\n",
        "            seq = seq[::-1]\n",
        "\n",
        "        return seq, label\n",
        "\n",
        "# ESM Embedding Extractor with caching\n",
        "@torch.no_grad()\n",
        "def extract_esm_embeddings(sequences):\n",
        "    sequences_upper = [seq.upper() for seq in sequences]\n",
        "    data = [(\"seq\", seq) for seq in sequences_upper]\n",
        "    batch_labels, batch_strs, batch_tokens = batch_converter(data)\n",
        "    results = esm_model(batch_tokens, repr_layers=[6], return_contacts=False)\n",
        "    token_representations = results[\"representations\"][6]\n",
        "\n",
        "    embeddings = []\n",
        "    for i, seq in enumerate(sequences_upper):\n",
        "        emb = token_representations[i, 1:len(seq)+1].mean(0)\n",
        "        embeddings.append(emb)\n",
        "    return torch.stack(embeddings)\n",
        "\n",
        "# Improved TCN Blocks\n",
        "class Chomp1d(nn.Module):\n",
        "    def __init__(self, chomp_size):\n",
        "        super().__init__()\n",
        "        self.chomp_size = chomp_size\n",
        "\n",
        "    def forward(self, x):\n",
        "        return x[:, :, :-self.chomp_size].contiguous()\n",
        "\n",
        "class TemporalBlock(nn.Module):\n",
        "    def __init__(self, n_inputs, n_outputs, kernel_size, stride, dilation, padding, dropout=0.2):\n",
        "        super().__init__()\n",
        "        self.conv1 = nn.Conv1d(n_inputs, n_outputs, kernel_size,\n",
        "                              stride=stride, padding=padding, dilation=dilation)\n",
        "        self.chomp1 = Chomp1d(padding)\n",
        "        self.bn1 = nn.BatchNorm1d(n_outputs)\n",
        "        self.dropout1 = nn.Dropout(dropout)\n",
        "\n",
        "        self.conv2 = nn.Conv1d(n_outputs, n_outputs, kernel_size,\n",
        "                              stride=stride, padding=padding, dilation=dilation)\n",
        "        self.chomp2 = Chomp1d(padding)\n",
        "        self.bn2 = nn.BatchNorm1d(n_outputs)\n",
        "        self.dropout2 = nn.Dropout(dropout)\n",
        "\n",
        "        self.net = nn.Sequential(\n",
        "            self.conv1, self.chomp1, self.bn1, nn.GELU(), self.dropout1,\n",
        "            self.conv2, self.chomp2, self.bn2, nn.GELU(), self.dropout2\n",
        "        )\n",
        "        self.downsample = nn.Conv1d(n_inputs, n_outputs, 1) if n_inputs != n_outputs else None\n",
        "        self.init_weights()\n",
        "\n",
        "    def init_weights(self):\n",
        "        nn.init.kaiming_normal_(self.conv1.weight, mode='fan_in')  # removed nonlinearity\n",
        "        nn.init.kaiming_normal_(self.conv2.weight, mode='fan_in')  # removed nonlinearity\n",
        "        if self.downsample is not None:\n",
        "            nn.init.kaiming_normal_(self.downsample.weight, mode='fan_in')  # removed nonlinearity\n",
        "\n",
        "    def forward(self, x):\n",
        "        out = self.net(x)\n",
        "        res = x if self.downsample is None else self.downsample(x)\n",
        "        return F.gelu(out + res)\n",
        "\n",
        "class TCN(nn.Module):\n",
        "    def __init__(self, input_size, num_channels, kernel_size=3, dropout=0.2):\n",
        "        super().__init__()\n",
        "        layers = []\n",
        "        for i in range(len(num_channels)):\n",
        "            dilation_size = 2 ** i\n",
        "            in_channels = input_size if i == 0 else num_channels[i - 1]\n",
        "            out_channels = num_channels[i]\n",
        "            layers.append(\n",
        "                TemporalBlock(in_channels, out_channels, kernel_size, stride=1,\n",
        "                            dilation=dilation_size, padding=(kernel_size - 1) * dilation_size,\n",
        "                            dropout=dropout)\n",
        "            )\n",
        "        self.network = nn.Sequential(*layers)\n",
        "\n",
        "    def forward(self, x):\n",
        "        return self.network(x)\n",
        "\n",
        "# Improved Adaptive Feature Fusion\n",
        "class AdaptiveFusion(nn.Module):\n",
        "    def __init__(self, esm_dim, tcn_dim):\n",
        "        super().__init__()\n",
        "        self.fc_esm = nn.Sequential(\n",
        "            nn.Linear(esm_dim, esm_dim),\n",
        "            nn.LayerNorm(esm_dim),\n",
        "            nn.GELU()\n",
        "        )\n",
        "        self.fc_tcn = nn.Sequential(\n",
        "            nn.Linear(tcn_dim, esm_dim),\n",
        "            nn.LayerNorm(esm_dim),\n",
        "            nn.GELU()\n",
        "        )\n",
        "        self.gate = nn.Sequential(\n",
        "            nn.Linear(esm_dim * 2, esm_dim),\n",
        "            nn.Sigmoid()\n",
        "        )\n",
        "\n",
        "    def forward(self, esm_feat, tcn_feat):\n",
        "        esm_proj = self.fc_esm(esm_feat)\n",
        "        tcn_proj = self.fc_tcn(tcn_feat)\n",
        "\n",
        "        combined = torch.cat([esm_proj, tcn_proj], dim=1)\n",
        "        gate = self.gate(combined)\n",
        "\n",
        "        return gate * esm_proj + (1 - gate) * tcn_proj\n",
        "\n",
        "# Label Smoothing Cross Entropy\n",
        "class LabelSmoothingCrossEntropy(nn.Module):\n",
        "    def __init__(self, smoothing=0.1):\n",
        "        super().__init__()\n",
        "        self.smoothing = smoothing\n",
        "\n",
        "    def forward(self, x, target):\n",
        "        log_probs = F.log_softmax(x, dim=-1)\n",
        "        nll_loss = -log_probs.gather(dim=-1, index=target.unsqueeze(1))\n",
        "        nll_loss = nll_loss.squeeze(1)\n",
        "        smooth_loss = -log_probs.mean(dim=-1)\n",
        "        loss = (1.0 - self.smoothing) * nll_loss + self.smoothing * smooth_loss\n",
        "        return loss.mean()\n",
        "\n",
        "# Improved LSTM with LayerNorm and dropout\n",
        "class LayerNormLSTM(nn.Module):\n",
        "    def __init__(self, input_size, hidden_size, num_layers=1, dropout=0.2):\n",
        "        super().__init__()\n",
        "        self.input_size = input_size\n",
        "        self.hidden_size = hidden_size\n",
        "        self.num_layers = num_layers\n",
        "\n",
        "        # LSTM layers\n",
        "        self.lstm = nn.LSTM(input_size, hidden_size, num_layers,\n",
        "                           batch_first=True, dropout=dropout if num_layers > 1 else 0)\n",
        "\n",
        "        # Layer normalization\n",
        "        self.ln_i = nn.LayerNorm(hidden_size)\n",
        "        self.ln_h = nn.LayerNorm(hidden_size)\n",
        "        self.ln_c = nn.LayerNorm(hidden_size)\n",
        "\n",
        "    def forward(self, x):\n",
        "        # Initialize hidden state\n",
        "        h0 = torch.zeros(self.num_layers, x.size(0), self.hidden_size).to(x.device)\n",
        "        c0 = torch.zeros(self.num_layers, x.size(0), self.hidden_size).to(x.device)\n",
        "\n",
        "        # Forward propagate LSTM\n",
        "        out, (hn, cn) = self.lstm(x, (h0, c0))\n",
        "\n",
        "        # Apply layer normalization\n",
        "        hn = self.ln_h(hn)\n",
        "        cn = self.ln_c(cn)\n",
        "\n",
        "        return out, (hn, cn)\n",
        "\n",
        "# Complete Classifier Model with improvements\n",
        "class MultimodalClassifier(nn.Module):\n",
        "    def __init__(self, esm_dim=320, tcn_input=21, tcn_channels=[64, 128], lstm_hidden=128, num_classes=2):\n",
        "        super().__init__()\n",
        "\n",
        "        # TCN pathway\n",
        "        self.tcn = TCN(tcn_input, tcn_channels)\n",
        "\n",
        "        # Feature fusion\n",
        "        self.fusion = AdaptiveFusion(esm_dim, tcn_channels[-1])\n",
        "\n",
        "        # LSTM pathway with layer normalization\n",
        "        self.lstm = LayerNormLSTM(input_size=esm_dim, hidden_size=lstm_hidden,\n",
        "                                num_layers=3, dropout=0.3)\n",
        "\n",
        "        # Classifier head\n",
        "        self.classifier = nn.Sequential(\n",
        "            nn.Linear(lstm_hidden, lstm_hidden // 2),\n",
        "            nn.LayerNorm(lstm_hidden // 2),\n",
        "            nn.GELU(),\n",
        "            nn.Dropout(0.4),\n",
        "            nn.Linear(lstm_hidden // 2, num_classes)\n",
        "        )\n",
        "\n",
        "        # Initialize weights\n",
        "        self.init_weights()\n",
        "\n",
        "    def init_weights(self):\n",
        "        for name, param in self.named_parameters():\n",
        "            if 'weight' in name:\n",
        "                if param.dim() < 2:  # Skip initialization for 1D tensors\n",
        "                    continue\n",
        "                if 'lstm' in name.lower():\n",
        "                    nn.init.orthogonal_(param)\n",
        "                else:\n",
        "                    nn.init.kaiming_normal_(param, mode='fan_in')\n",
        "            elif 'bias' in name:\n",
        "                nn.init.constant_(param, 0)\n",
        "\n",
        "    def forward(self, esm_feats, onehot_seqs):\n",
        "        # TCN pathway\n",
        "        tcn_out = self.tcn(onehot_seqs.permute(0, 2, 1))\n",
        "        tcn_summary = torch.mean(tcn_out, dim=2)  # Global pooling\n",
        "\n",
        "        # Feature fusion\n",
        "        fused = self.fusion(esm_feats, tcn_summary)\n",
        "\n",
        "        # Prepare LSTM input (repeat fused features to simulate sequence)\n",
        "        lstm_input = fused.unsqueeze(1).repeat(1, 10, 1)\n",
        "\n",
        "        # LSTM pathway\n",
        "        lstm_out, _ = self.lstm(lstm_input)\n",
        "\n",
        "        # Classifier\n",
        "        out = self.classifier(lstm_out[:, -1])\n",
        "        return out\n",
        "\n",
        "# Improved training function with gradient clipping, warmup, and more\n",
        "def train_model(model, train_loader, val_loader, criterion, optimizer, num_epochs=50,\n",
        "               patience=5, grad_clip=1.0, grad_accum_steps=4):\n",
        "    history = {\"train_loss\": [], \"val_loss\": []}\n",
        "    best_val_loss = float('inf')\n",
        "    epochs_no_improve = 0\n",
        "\n",
        "    # Learning rate schedulers\n",
        "    warmup_scheduler = torch.optim.lr_scheduler.LambdaLR(\n",
        "        optimizer, lambda epoch: min(1.0, (epoch + 1) / 10))\n",
        "    reduce_lr = ReduceLROnPlateau(optimizer, 'min', patience=2, factor=0.5)\n",
        "\n",
        "    for epoch in range(num_epochs):\n",
        "        model.train()\n",
        "        train_loss = 0\n",
        "        optimizer.zero_grad()\n",
        "\n",
        "        for i, (sequences, labels) in enumerate(tqdm(train_loader)):\n",
        "            esm_feats = extract_esm_embeddings(sequences)\n",
        "            onehot_seqs = sequence_to_onehot(sequences).float()\n",
        "            labels = torch.tensor(labels).long()\n",
        "\n",
        "            outputs = model(esm_feats, onehot_seqs)\n",
        "            loss = criterion(outputs, labels) / grad_accum_steps\n",
        "            loss.backward()\n",
        "\n",
        "            train_loss += loss.item() * grad_accum_steps\n",
        "\n",
        "            # Gradient accumulation\n",
        "            if (i + 1) % grad_accum_steps == 0 or (i + 1) == len(train_loader):\n",
        "                # Gradient clipping\n",
        "                nn.utils.clip_grad_norm_(model.parameters(), grad_clip)\n",
        "                optimizer.step()\n",
        "                optimizer.zero_grad()\n",
        "\n",
        "        train_loss /= len(train_loader)\n",
        "        history[\"train_loss\"].append(train_loss)\n",
        "\n",
        "        # Validation\n",
        "        model.eval()\n",
        "        val_loss = 0\n",
        "        with torch.no_grad():\n",
        "            for sequences, labels in val_loader:\n",
        "                esm_feats = extract_esm_embeddings(sequences)\n",
        "                onehot_seqs = sequence_to_onehot(sequences).float()\n",
        "                labels = torch.tensor(labels).long()\n",
        "\n",
        "                outputs = model(esm_feats, onehot_seqs)\n",
        "                loss = criterion(outputs, labels)\n",
        "                val_loss += loss.item()\n",
        "\n",
        "        val_loss /= len(val_loader)\n",
        "        history[\"val_loss\"].append(val_loss)\n",
        "\n",
        "        # Learning rate scheduling\n",
        "        if epoch < 10:  # Warmup phase\n",
        "            warmup_scheduler.step()\n",
        "        else:\n",
        "            reduce_lr.step(val_loss)\n",
        "\n",
        "        print(f\"Epoch {epoch+1}, Train Loss: {train_loss:.4f}, Val Loss: {val_loss:.4f}, LR: {optimizer.param_groups[0]['lr']:.2e}\")\n",
        "\n",
        "        # Early stopping\n",
        "        if val_loss < best_val_loss:\n",
        "            best_val_loss = val_loss\n",
        "            epochs_no_improve = 0\n",
        "            torch.save(model.state_dict(), 'best_model.pt')\n",
        "        else:\n",
        "            epochs_no_improve += 1\n",
        "            if epochs_no_improve == patience:\n",
        "                print(f'Early stopping at epoch {epoch+1}')\n",
        "                model.load_state_dict(torch.load('best_model.pt'))\n",
        "                break\n",
        "\n",
        "    return history\n",
        "\n",
        "# Utility Functions\n",
        "def sequence_to_onehot(sequences, max_len=100):\n",
        "    amino_acids = 'RHKDESTNQCUGPAVILMFYW'\n",
        "    aa_to_idx = {aa: i for i, aa in enumerate(amino_acids)}\n",
        "    onehot = torch.zeros(len(sequences), max_len, len(amino_acids))\n",
        "    for i, seq in enumerate(sequences):\n",
        "        seq_upper = seq.upper()\n",
        "        for j, aa in enumerate(seq_upper[:max_len]):\n",
        "            if aa in aa_to_idx:\n",
        "                onehot[i, j, aa_to_idx[aa]] = 1.0\n",
        "    return onehot\n",
        "\n",
        "def evaluate_model(model, data_loader):\n",
        "    all_preds, all_labels = [], []\n",
        "    with torch.no_grad():\n",
        "        for sequences, labels in data_loader:\n",
        "            esm_feats = extract_esm_embeddings(sequences)\n",
        "            onehot_seqs = sequence_to_onehot(sequences).float()\n",
        "            outputs = model(esm_feats, onehot_seqs)\n",
        "            preds = torch.argmax(outputs, dim=1).numpy()\n",
        "            all_preds.extend(preds)\n",
        "            all_labels.extend(labels)\n",
        "\n",
        "    metrics = {\n",
        "        \"Accuracy\": accuracy_score(all_labels, all_preds),\n",
        "        \"Precision\": precision_score(all_labels, all_preds),\n",
        "        \"Recall\": recall_score(all_labels, all_preds),\n",
        "        \"F1-score\": f1_score(all_labels, all_preds),\n",
        "        \"MCC\": matthews_corrcoef(all_labels, all_preds),\n",
        "        \"Cohen's Kappa\": cohen_kappa_score(all_labels, all_preds)\n",
        "    }\n",
        "\n",
        "    for name, value in metrics.items():\n",
        "        print(f\"{name}: {value:.4f}\")\n",
        "\n",
        "    return metrics\n",
        "\n",
        "def plot_history(history):\n",
        "    plt.figure(figsize=(12, 5))\n",
        "    plt.subplot(1, 2, 1)\n",
        "    plt.plot(history[\"train_loss\"], label=\"Train Loss\")\n",
        "    plt.plot(history[\"val_loss\"], label=\"Val Loss\")\n",
        "    plt.xlabel(\"Epoch\")\n",
        "    plt.ylabel(\"Loss\")\n",
        "    plt.legend()\n",
        "    plt.title(\"Training/Validation Loss\")\n",
        "    plt.show()"
      ]
    },
    {
      "cell_type": "code",
      "execution_count": null,
      "metadata": {
        "id": "SRWmKSOJ75z6",
        "outputId": "fe9424cc-0570-4bcb-ba4e-6a5009d638a4"
      },
      "outputs": [
        {
          "name": "stderr",
          "output_type": "stream",
          "text": [
            "  0%|                                                  | 0/1159 [00:00<?, ?it/s]/home/molecular16/.local/lib/python3.11/site-packages/torch/utils/data/dataloader.py:665: UserWarning: 'pin_memory' argument is set as true but no accelerator is found, then device pinned memory won't be used.\n",
            "  warnings.warn(warn_msg)\n",
            "/tmp/ipykernel_2193726/989084929.py:267: UserWarning: To copy construct from a tensor, it is recommended to use sourceTensor.detach().clone() or sourceTensor.detach().clone().requires_grad_(True), rather than torch.tensor(sourceTensor).\n",
            "  labels = torch.tensor(labels).long()\n",
            "100%|███████████████████████████████████████| 1159/1159 [00:44<00:00, 25.96it/s]\n",
            "/tmp/ipykernel_2193726/989084929.py:292: UserWarning: To copy construct from a tensor, it is recommended to use sourceTensor.detach().clone() or sourceTensor.detach().clone().requires_grad_(True), rather than torch.tensor(sourceTensor).\n",
            "  labels = torch.tensor(labels).long()\n"
          ]
        },
        {
          "name": "stdout",
          "output_type": "stream",
          "text": [
            "Epoch 1, Train Loss: 0.7116, Val Loss: 0.6296, LR: 2.00e-05\n"
          ]
        },
        {
          "name": "stderr",
          "output_type": "stream",
          "text": [
            "100%|███████████████████████████████████████| 1159/1159 [00:44<00:00, 25.99it/s]\n"
          ]
        },
        {
          "name": "stdout",
          "output_type": "stream",
          "text": [
            "Epoch 2, Train Loss: 0.6370, Val Loss: 0.6049, LR: 3.00e-05\n"
          ]
        },
        {
          "name": "stderr",
          "output_type": "stream",
          "text": [
            "100%|███████████████████████████████████████| 1159/1159 [00:44<00:00, 25.81it/s]\n"
          ]
        },
        {
          "name": "stdout",
          "output_type": "stream",
          "text": [
            "Epoch 3, Train Loss: 0.6048, Val Loss: 0.5778, LR: 4.00e-05\n"
          ]
        },
        {
          "name": "stderr",
          "output_type": "stream",
          "text": [
            "100%|███████████████████████████████████████| 1159/1159 [00:44<00:00, 26.20it/s]\n"
          ]
        },
        {
          "name": "stdout",
          "output_type": "stream",
          "text": [
            "Epoch 4, Train Loss: 0.5826, Val Loss: 0.5485, LR: 5.00e-05\n"
          ]
        },
        {
          "name": "stderr",
          "output_type": "stream",
          "text": [
            "100%|███████████████████████████████████████| 1159/1159 [00:44<00:00, 25.99it/s]\n"
          ]
        },
        {
          "name": "stdout",
          "output_type": "stream",
          "text": [
            "Epoch 5, Train Loss: 0.5646, Val Loss: 0.5302, LR: 6.00e-05\n"
          ]
        },
        {
          "name": "stderr",
          "output_type": "stream",
          "text": [
            "100%|███████████████████████████████████████| 1159/1159 [00:42<00:00, 27.01it/s]\n"
          ]
        },
        {
          "name": "stdout",
          "output_type": "stream",
          "text": [
            "Epoch 6, Train Loss: 0.5446, Val Loss: 0.5062, LR: 7.00e-05\n"
          ]
        },
        {
          "name": "stderr",
          "output_type": "stream",
          "text": [
            "100%|███████████████████████████████████████| 1159/1159 [00:45<00:00, 25.73it/s]\n"
          ]
        },
        {
          "name": "stdout",
          "output_type": "stream",
          "text": [
            "Epoch 7, Train Loss: 0.5280, Val Loss: 0.5255, LR: 8.00e-05\n"
          ]
        },
        {
          "name": "stderr",
          "output_type": "stream",
          "text": [
            "100%|███████████████████████████████████████| 1159/1159 [00:43<00:00, 26.53it/s]\n"
          ]
        },
        {
          "name": "stdout",
          "output_type": "stream",
          "text": [
            "Epoch 8, Train Loss: 0.5151, Val Loss: 0.4865, LR: 9.00e-05\n"
          ]
        },
        {
          "name": "stderr",
          "output_type": "stream",
          "text": [
            "100%|███████████████████████████████████████| 1159/1159 [00:44<00:00, 26.30it/s]\n"
          ]
        },
        {
          "name": "stdout",
          "output_type": "stream",
          "text": [
            "Epoch 9, Train Loss: 0.5023, Val Loss: 0.4941, LR: 1.00e-04\n"
          ]
        },
        {
          "name": "stderr",
          "output_type": "stream",
          "text": [
            "100%|███████████████████████████████████████| 1159/1159 [00:43<00:00, 26.74it/s]\n"
          ]
        },
        {
          "name": "stdout",
          "output_type": "stream",
          "text": [
            "Epoch 10, Train Loss: 0.4908, Val Loss: 0.4696, LR: 1.00e-04\n"
          ]
        },
        {
          "name": "stderr",
          "output_type": "stream",
          "text": [
            "100%|███████████████████████████████████████| 1159/1159 [00:45<00:00, 25.42it/s]\n"
          ]
        },
        {
          "name": "stdout",
          "output_type": "stream",
          "text": [
            "Epoch 11, Train Loss: 0.4768, Val Loss: 0.4592, LR: 1.00e-04\n"
          ]
        },
        {
          "name": "stderr",
          "output_type": "stream",
          "text": [
            "100%|███████████████████████████████████████| 1159/1159 [00:43<00:00, 26.58it/s]\n"
          ]
        },
        {
          "name": "stdout",
          "output_type": "stream",
          "text": [
            "Epoch 12, Train Loss: 0.4607, Val Loss: 0.4464, LR: 1.00e-04\n"
          ]
        },
        {
          "name": "stderr",
          "output_type": "stream",
          "text": [
            "100%|███████████████████████████████████████| 1159/1159 [00:42<00:00, 27.01it/s]\n"
          ]
        },
        {
          "name": "stdout",
          "output_type": "stream",
          "text": [
            "Epoch 13, Train Loss: 0.4474, Val Loss: 0.4689, LR: 1.00e-04\n"
          ]
        },
        {
          "name": "stderr",
          "output_type": "stream",
          "text": [
            "100%|███████████████████████████████████████| 1159/1159 [00:42<00:00, 27.28it/s]\n"
          ]
        },
        {
          "name": "stdout",
          "output_type": "stream",
          "text": [
            "Epoch 14, Train Loss: 0.4371, Val Loss: 0.4551, LR: 1.00e-04\n"
          ]
        },
        {
          "name": "stderr",
          "output_type": "stream",
          "text": [
            "100%|███████████████████████████████████████| 1159/1159 [00:42<00:00, 26.96it/s]\n"
          ]
        },
        {
          "name": "stdout",
          "output_type": "stream",
          "text": [
            "Epoch 15, Train Loss: 0.4249, Val Loss: 0.4238, LR: 1.00e-04\n"
          ]
        },
        {
          "name": "stderr",
          "output_type": "stream",
          "text": [
            "100%|███████████████████████████████████████| 1159/1159 [00:43<00:00, 26.63it/s]\n"
          ]
        },
        {
          "name": "stdout",
          "output_type": "stream",
          "text": [
            "Epoch 16, Train Loss: 0.4147, Val Loss: 0.4165, LR: 1.00e-04\n"
          ]
        },
        {
          "name": "stderr",
          "output_type": "stream",
          "text": [
            "100%|███████████████████████████████████████| 1159/1159 [00:40<00:00, 28.40it/s]\n"
          ]
        },
        {
          "name": "stdout",
          "output_type": "stream",
          "text": [
            "Epoch 17, Train Loss: 0.4081, Val Loss: 0.4039, LR: 1.00e-04\n"
          ]
        },
        {
          "name": "stderr",
          "output_type": "stream",
          "text": [
            "100%|███████████████████████████████████████| 1159/1159 [00:42<00:00, 27.26it/s]\n"
          ]
        },
        {
          "name": "stdout",
          "output_type": "stream",
          "text": [
            "Epoch 18, Train Loss: 0.4025, Val Loss: 0.3983, LR: 1.00e-04\n"
          ]
        },
        {
          "name": "stderr",
          "output_type": "stream",
          "text": [
            "100%|███████████████████████████████████████| 1159/1159 [00:44<00:00, 26.11it/s]\n"
          ]
        },
        {
          "name": "stdout",
          "output_type": "stream",
          "text": [
            "Epoch 19, Train Loss: 0.3878, Val Loss: 0.4077, LR: 1.00e-04\n"
          ]
        },
        {
          "name": "stderr",
          "output_type": "stream",
          "text": [
            "100%|███████████████████████████████████████| 1159/1159 [00:43<00:00, 26.45it/s]\n"
          ]
        },
        {
          "name": "stdout",
          "output_type": "stream",
          "text": [
            "Epoch 20, Train Loss: 0.3821, Val Loss: 0.3857, LR: 1.00e-04\n"
          ]
        },
        {
          "name": "stderr",
          "output_type": "stream",
          "text": [
            "100%|███████████████████████████████████████| 1159/1159 [00:40<00:00, 28.73it/s]\n"
          ]
        },
        {
          "name": "stdout",
          "output_type": "stream",
          "text": [
            "Epoch 21, Train Loss: 0.3753, Val Loss: 0.3900, LR: 1.00e-04\n"
          ]
        },
        {
          "name": "stderr",
          "output_type": "stream",
          "text": [
            "100%|███████████████████████████████████████| 1159/1159 [00:40<00:00, 28.30it/s]\n"
          ]
        },
        {
          "name": "stdout",
          "output_type": "stream",
          "text": [
            "Epoch 22, Train Loss: 0.3698, Val Loss: 0.3956, LR: 1.00e-04\n"
          ]
        },
        {
          "name": "stderr",
          "output_type": "stream",
          "text": [
            "100%|███████████████████████████████████████| 1159/1159 [00:39<00:00, 29.25it/s]\n"
          ]
        },
        {
          "name": "stdout",
          "output_type": "stream",
          "text": [
            "Epoch 23, Train Loss: 0.3642, Val Loss: 0.3882, LR: 5.00e-05\n"
          ]
        },
        {
          "name": "stderr",
          "output_type": "stream",
          "text": [
            "100%|███████████████████████████████████████| 1159/1159 [00:42<00:00, 27.37it/s]\n"
          ]
        },
        {
          "name": "stdout",
          "output_type": "stream",
          "text": [
            "Epoch 24, Train Loss: 0.3417, Val Loss: 0.3870, LR: 5.00e-05\n"
          ]
        },
        {
          "name": "stderr",
          "output_type": "stream",
          "text": [
            "100%|███████████████████████████████████████| 1159/1159 [00:42<00:00, 26.99it/s]\n"
          ]
        },
        {
          "name": "stdout",
          "output_type": "stream",
          "text": [
            "Epoch 25, Train Loss: 0.3323, Val Loss: 0.3630, LR: 5.00e-05\n"
          ]
        },
        {
          "name": "stderr",
          "output_type": "stream",
          "text": [
            "100%|███████████████████████████████████████| 1159/1159 [00:37<00:00, 31.05it/s]\n"
          ]
        },
        {
          "name": "stdout",
          "output_type": "stream",
          "text": [
            "Epoch 26, Train Loss: 0.3283, Val Loss: 0.3735, LR: 5.00e-05\n"
          ]
        },
        {
          "name": "stderr",
          "output_type": "stream",
          "text": [
            "100%|███████████████████████████████████████| 1159/1159 [00:42<00:00, 27.23it/s]\n"
          ]
        },
        {
          "name": "stdout",
          "output_type": "stream",
          "text": [
            "Epoch 27, Train Loss: 0.3267, Val Loss: 0.3824, LR: 5.00e-05\n"
          ]
        },
        {
          "name": "stderr",
          "output_type": "stream",
          "text": [
            "100%|███████████████████████████████████████| 1159/1159 [00:41<00:00, 28.25it/s]\n"
          ]
        },
        {
          "name": "stdout",
          "output_type": "stream",
          "text": [
            "Epoch 28, Train Loss: 0.3221, Val Loss: 0.3593, LR: 5.00e-05\n"
          ]
        },
        {
          "name": "stderr",
          "output_type": "stream",
          "text": [
            "100%|███████████████████████████████████████| 1159/1159 [00:42<00:00, 27.46it/s]\n"
          ]
        },
        {
          "name": "stdout",
          "output_type": "stream",
          "text": [
            "Epoch 29, Train Loss: 0.3178, Val Loss: 0.3548, LR: 5.00e-05\n"
          ]
        },
        {
          "name": "stderr",
          "output_type": "stream",
          "text": [
            "100%|███████████████████████████████████████| 1159/1159 [00:43<00:00, 26.47it/s]\n"
          ]
        },
        {
          "name": "stdout",
          "output_type": "stream",
          "text": [
            "Epoch 30, Train Loss: 0.3124, Val Loss: 0.3465, LR: 5.00e-05\n"
          ]
        },
        {
          "name": "stderr",
          "output_type": "stream",
          "text": [
            "100%|███████████████████████████████████████| 1159/1159 [00:43<00:00, 26.63it/s]\n"
          ]
        },
        {
          "name": "stdout",
          "output_type": "stream",
          "text": [
            "Epoch 31, Train Loss: 0.3146, Val Loss: 0.3530, LR: 5.00e-05\n"
          ]
        },
        {
          "name": "stderr",
          "output_type": "stream",
          "text": [
            "100%|███████████████████████████████████████| 1159/1159 [00:43<00:00, 26.95it/s]\n"
          ]
        },
        {
          "name": "stdout",
          "output_type": "stream",
          "text": [
            "Epoch 32, Train Loss: 0.3134, Val Loss: 0.3537, LR: 5.00e-05\n"
          ]
        },
        {
          "name": "stderr",
          "output_type": "stream",
          "text": [
            "100%|███████████████████████████████████████| 1159/1159 [00:43<00:00, 26.68it/s]\n"
          ]
        },
        {
          "name": "stdout",
          "output_type": "stream",
          "text": [
            "Epoch 33, Train Loss: 0.3076, Val Loss: 0.3526, LR: 2.50e-05\n"
          ]
        },
        {
          "name": "stderr",
          "output_type": "stream",
          "text": [
            "100%|███████████████████████████████████████| 1159/1159 [00:44<00:00, 26.24it/s]\n"
          ]
        },
        {
          "name": "stdout",
          "output_type": "stream",
          "text": [
            "Epoch 34, Train Loss: 0.2939, Val Loss: 0.3412, LR: 2.50e-05\n"
          ]
        },
        {
          "name": "stderr",
          "output_type": "stream",
          "text": [
            "100%|███████████████████████████████████████| 1159/1159 [00:44<00:00, 26.10it/s]\n"
          ]
        },
        {
          "name": "stdout",
          "output_type": "stream",
          "text": [
            "Epoch 35, Train Loss: 0.2894, Val Loss: 0.3421, LR: 2.50e-05\n"
          ]
        },
        {
          "name": "stderr",
          "output_type": "stream",
          "text": [
            "100%|███████████████████████████████████████| 1159/1159 [00:44<00:00, 26.31it/s]\n"
          ]
        },
        {
          "name": "stdout",
          "output_type": "stream",
          "text": [
            "Epoch 36, Train Loss: 0.2882, Val Loss: 0.3478, LR: 2.50e-05\n"
          ]
        },
        {
          "name": "stderr",
          "output_type": "stream",
          "text": [
            "100%|███████████████████████████████████████| 1159/1159 [00:43<00:00, 26.94it/s]\n"
          ]
        },
        {
          "name": "stdout",
          "output_type": "stream",
          "text": [
            "Epoch 37, Train Loss: 0.2877, Val Loss: 0.3468, LR: 1.25e-05\n"
          ]
        },
        {
          "name": "stderr",
          "output_type": "stream",
          "text": [
            "100%|███████████████████████████████████████| 1159/1159 [00:44<00:00, 26.28it/s]\n"
          ]
        },
        {
          "name": "stdout",
          "output_type": "stream",
          "text": [
            "Epoch 38, Train Loss: 0.2798, Val Loss: 0.3397, LR: 1.25e-05\n"
          ]
        },
        {
          "name": "stderr",
          "output_type": "stream",
          "text": [
            "100%|███████████████████████████████████████| 1159/1159 [00:42<00:00, 27.47it/s]\n"
          ]
        },
        {
          "name": "stdout",
          "output_type": "stream",
          "text": [
            "Epoch 39, Train Loss: 0.2786, Val Loss: 0.3402, LR: 1.25e-05\n"
          ]
        },
        {
          "name": "stderr",
          "output_type": "stream",
          "text": [
            "100%|███████████████████████████████████████| 1159/1159 [00:42<00:00, 27.02it/s]\n"
          ]
        },
        {
          "name": "stdout",
          "output_type": "stream",
          "text": [
            "Epoch 40, Train Loss: 0.2771, Val Loss: 0.3421, LR: 1.25e-05\n"
          ]
        },
        {
          "name": "stderr",
          "output_type": "stream",
          "text": [
            "100%|███████████████████████████████████████| 1159/1159 [00:44<00:00, 26.04it/s]\n"
          ]
        },
        {
          "name": "stdout",
          "output_type": "stream",
          "text": [
            "Epoch 41, Train Loss: 0.2763, Val Loss: 0.3408, LR: 6.25e-06\n"
          ]
        },
        {
          "name": "stderr",
          "output_type": "stream",
          "text": [
            "100%|███████████████████████████████████████| 1159/1159 [00:44<00:00, 26.17it/s]\n"
          ]
        },
        {
          "name": "stdout",
          "output_type": "stream",
          "text": [
            "Epoch 42, Train Loss: 0.2736, Val Loss: 0.3405, LR: 6.25e-06\n"
          ]
        },
        {
          "name": "stderr",
          "output_type": "stream",
          "text": [
            "100%|███████████████████████████████████████| 1159/1159 [00:43<00:00, 26.83it/s]\n"
          ]
        },
        {
          "name": "stdout",
          "output_type": "stream",
          "text": [
            "Epoch 43, Train Loss: 0.2707, Val Loss: 0.3464, LR: 6.25e-06\n"
          ]
        },
        {
          "name": "stderr",
          "output_type": "stream",
          "text": [
            "100%|███████████████████████████████████████| 1159/1159 [00:44<00:00, 26.34it/s]\n"
          ]
        },
        {
          "name": "stdout",
          "output_type": "stream",
          "text": [
            "Epoch 44, Train Loss: 0.2685, Val Loss: 0.3448, LR: 3.13e-06\n"
          ]
        },
        {
          "name": "stderr",
          "output_type": "stream",
          "text": [
            "100%|███████████████████████████████████████| 1159/1159 [00:42<00:00, 27.28it/s]\n"
          ]
        },
        {
          "name": "stdout",
          "output_type": "stream",
          "text": [
            "Epoch 45, Train Loss: 0.2684, Val Loss: 0.3415, LR: 3.13e-06\n"
          ]
        },
        {
          "name": "stderr",
          "output_type": "stream",
          "text": [
            "100%|███████████████████████████████████████| 1159/1159 [00:43<00:00, 26.90it/s]\n"
          ]
        },
        {
          "name": "stdout",
          "output_type": "stream",
          "text": [
            "Epoch 46, Train Loss: 0.2682, Val Loss: 0.3395, LR: 3.13e-06\n"
          ]
        },
        {
          "name": "stderr",
          "output_type": "stream",
          "text": [
            "100%|███████████████████████████████████████| 1159/1159 [00:42<00:00, 27.10it/s]\n"
          ]
        },
        {
          "name": "stdout",
          "output_type": "stream",
          "text": [
            "Epoch 47, Train Loss: 0.2680, Val Loss: 0.3412, LR: 3.13e-06\n"
          ]
        },
        {
          "name": "stderr",
          "output_type": "stream",
          "text": [
            "100%|███████████████████████████████████████| 1159/1159 [00:42<00:00, 27.03it/s]\n"
          ]
        },
        {
          "name": "stdout",
          "output_type": "stream",
          "text": [
            "Epoch 48, Train Loss: 0.2677, Val Loss: 0.3412, LR: 3.13e-06\n"
          ]
        },
        {
          "name": "stderr",
          "output_type": "stream",
          "text": [
            "100%|███████████████████████████████████████| 1159/1159 [00:43<00:00, 26.80it/s]\n"
          ]
        },
        {
          "name": "stdout",
          "output_type": "stream",
          "text": [
            "Epoch 49, Train Loss: 0.2677, Val Loss: 0.3410, LR: 1.56e-06\n"
          ]
        },
        {
          "name": "stderr",
          "output_type": "stream",
          "text": [
            "100%|███████████████████████████████████████| 1159/1159 [00:43<00:00, 26.53it/s]\n"
          ]
        },
        {
          "name": "stdout",
          "output_type": "stream",
          "text": [
            "Epoch 50, Train Loss: 0.2653, Val Loss: 0.3431, LR: 1.56e-06\n"
          ]
        },
        {
          "data": {
            "image/png": "[encoded data removed]",
            "text/plain": [
              "<Figure size 1200x500 with 1 Axes>"
            ]
          },
          "metadata": {},
          "output_type": "display_data"
        },
        {
          "name": "stdout",
          "output_type": "stream",
          "text": [
            "\n",
            "Train Set Evaluation:\n",
            "Accuracy: 0.9607\n",
            "Precision: 0.9737\n",
            "Recall: 0.9469\n",
            "F1-score: 0.9601\n",
            "MCC: 0.9217\n",
            "Cohen's Kappa: 0.9213\n",
            "\n",
            "Validation Set Evaluation:\n"
          ]
        },
        {
          "name": "stderr",
          "output_type": "stream",
          "text": [
            "/home/molecular16/.local/lib/python3.11/site-packages/torch/utils/data/dataloader.py:665: UserWarning: 'pin_memory' argument is set as true but no accelerator is found, then device pinned memory won't be used.\n",
            "  warnings.warn(warn_msg)\n"
          ]
        },
        {
          "name": "stdout",
          "output_type": "stream",
          "text": [
            "Accuracy: 0.9227\n",
            "Precision: 0.9375\n",
            "Recall: 0.9059\n",
            "F1-score: 0.9214\n",
            "MCC: 0.8460\n",
            "Cohen's Kappa: 0.8455\n"
          ]
        },
        {
          "name": "stderr",
          "output_type": "stream",
          "text": [
            "/home/molecular16/.local/lib/python3.11/site-packages/torch/utils/data/dataloader.py:665: UserWarning: 'pin_memory' argument is set as true but no accelerator is found, then device pinned memory won't be used.\n",
            "  warnings.warn(warn_msg)\n"
          ]
        },
        {
          "data": {
            "image/png": "[encoded data removed]",
            "text/plain": [
              "<Figure size 600x600 with 1 Axes>"
            ]
          },
          "metadata": {},
          "output_type": "display_data"
        },
        {
          "name": "stderr",
          "output_type": "stream",
          "text": [
            "/home/molecular16/.local/lib/python3.11/site-packages/torch/utils/data/dataloader.py:665: UserWarning: 'pin_memory' argument is set as true but no accelerator is found, then device pinned memory won't be used.\n",
            "  warnings.warn(warn_msg)\n"
          ]
        },
        {
          "data": {
            "image/png": "[encoded data removed]",
            "text/plain": [
              "<Figure size 600x600 with 1 Axes>"
            ]
          },
          "metadata": {},
          "output_type": "display_data"
        }
      ],
      "source": [
        "# Main Execution\n",
        "if __name__ == \"__main__\":\n",
        "    # Initialize with data augmentation for training\n",
        "    full_dataset = PeptideDataset(\"hemolytic_balanced_data_combined.csv\", augment=True)\n",
        "\n",
        "    # Stratified split\n",
        "    from sklearn.model_selection import train_test_split\n",
        "    indices = list(range(len(full_dataset)))\n",
        "    labels = [full_dataset[i][1] for i in indices]\n",
        "    train_idx, val_idx = train_test_split(indices, test_size=0.2, stratify=labels, random_state=42)\n",
        "\n",
        "    train_dataset = torch.utils.data.Subset(full_dataset, train_idx)\n",
        "    val_dataset = torch.utils.data.Subset(\n",
        "        PeptideDataset(\"hemolytic_balanced_data_combined.csv\", augment=False),\n",
        "        val_idx\n",
        "    )\n",
        "\n",
        "    train_loader = DataLoader(train_dataset, batch_size=16, shuffle=True, num_workers=4, pin_memory=True)\n",
        "    val_loader = DataLoader(val_dataset, batch_size=16, num_workers=4, pin_memory=True)\n",
        "\n",
        "    model = MultimodalClassifier()\n",
        "\n",
        "    # Use label smoothing and gradient clipping\n",
        "    criterion = LabelSmoothingCrossEntropy(smoothing=0.1)\n",
        "    optimizer = torch.optim.AdamW(model.parameters(), lr=1e-4, weight_decay=1e-4)\n",
        "\n",
        "    history = train_model(\n",
        "        model, train_loader, val_loader, criterion, optimizer,\n",
        "        num_epochs=50, patience=10, grad_clip=1.0, grad_accum_steps=2\n",
        "    )\n",
        "\n",
        "    plot_history(history)\n",
        "\n",
        "    print(\"\\nTrain Set Evaluation:\")\n",
        "    train_metrics = evaluate_model(model, train_loader)\n",
        "\n",
        "    print(\"\\nValidation Set Evaluation:\")\n",
        "    val_metrics = evaluate_model(model, val_loader)\n",
        "\n",
        "    # Confusion matrix plotting\n",
        "    from sklearn.metrics import confusion_matrix\n",
        "    import seaborn as sns\n",
        "\n",
        "    def plot_confusion_matrix(model, data_loader, title):\n",
        "        all_preds, all_labels = [], []\n",
        "        with torch.no_grad():\n",
        "            for sequences, labels in data_loader:\n",
        "                esm_feats = extract_esm_embeddings(sequences)\n",
        "                onehot_seqs = sequence_to_onehot(sequences).float()\n",
        "                outputs = model(esm_feats, onehot_seqs)\n",
        "                preds = torch.argmax(outputs, dim=1).numpy()\n",
        "                all_preds.extend(preds)\n",
        "                all_labels.extend(labels)\n",
        "\n",
        "        cm = confusion_matrix(all_labels, all_preds)\n",
        "        plt.figure(figsize=(6, 6))\n",
        "        sns.heatmap(cm, annot=True, fmt='d', cmap='Blues', cbar=False)\n",
        "        plt.xlabel(\"Predicted Label\")\n",
        "        plt.ylabel(\"True Label\")\n",
        "        plt.title(title)\n",
        "        plt.show()\n",
        "\n",
        "    plot_confusion_matrix(model, train_loader, \"Confusion Matrix - Training Set\")\n",
        "    plot_confusion_matrix(model, val_loader, \"Confusion Matrix - Validation Set\")"
      ]
    },
    {
      "cell_type": "code",
      "execution_count": null,
      "metadata": {
        "id": "QEbC7txn72IX",
        "outputId": "36eca080-d0dc-47c9-c9e0-12b786d70d3b"
      },
      "outputs": [
        {
          "name": "stderr",
          "output_type": "stream",
          "text": [
            "/home/molecular16/.local/lib/python3.11/site-packages/torch/utils/data/dataloader.py:665: UserWarning: 'pin_memory' argument is set as true but no accelerator is found, then device pinned memory won't be used.\n",
            "  warnings.warn(warn_msg)\n"
          ]
        },
        {
          "data": {
            "image/png": "[encoded data removed]",
            "text/plain": [
              "<Figure size 600x600 with 1 Axes>"
            ]
          },
          "metadata": {},
          "output_type": "display_data"
        },
        {
          "name": "stderr",
          "output_type": "stream",
          "text": [
            "/home/molecular16/.local/lib/python3.11/site-packages/torch/utils/data/dataloader.py:665: UserWarning: 'pin_memory' argument is set as true but no accelerator is found, then device pinned memory won't be used.\n",
            "  warnings.warn(warn_msg)\n"
          ]
        },
        {
          "data": {
            "image/png": "[encoded data removed]",
            "text/plain": [
              "<Figure size 600x600 with 1 Axes>"
            ]
          },
          "metadata": {},
          "output_type": "display_data"
        }
      ],
      "source": [
        "# Confusion Matrix\n",
        "from sklearn.metrics import confusion_matrix\n",
        "import seaborn as sns\n",
        "\n",
        "def plot_confusion_matrix(model, data_loader, title):\n",
        "    all_preds, all_labels = [], []\n",
        "    with torch.no_grad():\n",
        "        for sequences, labels in data_loader:\n",
        "            esm_feats = extract_esm_embeddings(sequences)\n",
        "            onehot_seqs = sequence_to_onehot(sequences).float()\n",
        "            outputs = model(esm_feats, onehot_seqs)\n",
        "            preds = torch.argmax(outputs, dim=1).numpy()\n",
        "            all_preds.extend(preds)\n",
        "            all_labels.extend(labels)\n",
        "\n",
        "    cm = confusion_matrix(all_labels, all_preds)\n",
        "    plt.figure(figsize=(6, 6))\n",
        "    sns.heatmap(cm, annot=True, fmt='d', cmap='Blues', cbar=False)\n",
        "    plt.xlabel(\"Predicted Label\")\n",
        "    plt.ylabel(\"True Label\")\n",
        "    plt.title(title)\n",
        "    plt.show()\n",
        "\n",
        "plot_confusion_matrix(model, train_loader, \"Confusion Matrix - Training Set\")\n",
        "plot_confusion_matrix(model, val_loader, \"Confusion Matrix - Validation Set\")\n"
      ]
    },
    {
      "cell_type": "code",
      "execution_count": null,
      "metadata": {
        "id": "VKWRyFDHDS48",
        "outputId": "a39eeef4-04b2-4114-b2e4-4ad9109128e2"
      },
      "outputs": [
        {
          "name": "stdout",
          "output_type": "stream",
          "text": [
            "hemolytic\n",
            "1    11583\n",
            "0    11583\n",
            "Name: count, dtype: int64\n"
          ]
        }
      ],
      "source": [
        "import pandas as df\n",
        "df = pd.read_csv(\"hemolytic_balanced_data_combined.csv\")\n",
        "hemolytic_counts = df['hemolytic'].value_counts()\n",
        "print(hemolytic_counts)"
      ]
    },
    {
      "cell_type": "code",
      "execution_count": null,
      "metadata": {
        "id": "FmauV2CAPJTD"
      },
      "outputs": [],
      "source": [
        "# Save the trained model\n",
        "torch.save(model.state_dict(), 'hemolytic_peptide_classifier.pth')"
      ]
    },
    {
      "cell_type": "code",
      "execution_count": null,
      "metadata": {
        "id": "VvdAsfToPOFl",
        "outputId": "24700d84-62c0-4ee4-8917-1ecc2ee35794"
      },
      "outputs": [
        {
          "name": "stdout",
          "output_type": "stream",
          "text": [
            "Model loaded successfully!\n",
            "Predictions: tensor([0, 0])\n"
          ]
        }
      ],
      "source": [
        "# To open the trained model, you would load the state dictionary back into a model instance\n",
        "# First, instantiate a new model with the same architecture\n",
        "loaded_model = MultimodalClassifier()\n",
        "\n",
        "# Then, load the saved state dictionary\n",
        "loaded_model.load_state_dict(torch.load('hemolytic_peptide_classifier.pth'))\n",
        "\n",
        "# Set the model to evaluation mode\n",
        "loaded_model.eval()\n",
        "\n",
        "print(\"Model loaded successfully!\")\n",
        "\n",
        "# You can now use loaded_model for inference on new data.\n",
        "# Example (assuming you have new_sequences):\n",
        "new_sequences = [\"ARGLAKL\", \"AAVVRR\"]\n",
        "new_esm_feats = extract_esm_embeddings(new_sequences)\n",
        "new_onehot_seqs = sequence_to_onehot(new_sequences).float()\n",
        "with torch.no_grad():\n",
        "     predictions = loaded_model(new_esm_feats, new_onehot_seqs)\n",
        "     predicted_classes = torch.argmax(predictions, dim=1)\n",
        "     print(\"Predictions:\", predicted_classes)"
      ]
    },
    {
      "cell_type": "code",
      "execution_count": null,
      "metadata": {
        "id": "2xz3Q1ZoPS-G",
        "outputId": "023d8f44-396e-4c1d-c0f5-b37eb02b47aa"
      },
      "outputs": [
        {
          "name": "stdout",
          "output_type": "stream",
          "text": [
            "Defaulting to user installation because normal site-packages is not writeable\n",
            "Requirement already satisfied: lime in /home/molecular16/.local/lib/python3.11/site-packages (0.2.0.1)\n",
            "Requirement already satisfied: matplotlib in /home/molecular16/anaconda3/lib/python3.11/site-packages (from lime) (3.7.2)\n",
            "Requirement already satisfied: numpy in /home/molecular16/anaconda3/lib/python3.11/site-packages (from lime) (1.24.3)\n",
            "Requirement already satisfied: scipy in /home/molecular16/anaconda3/lib/python3.11/site-packages (from lime) (1.11.1)\n",
            "Requirement already satisfied: tqdm in /home/molecular16/anaconda3/lib/python3.11/site-packages (from lime) (4.65.0)\n",
            "Requirement already satisfied: scikit-learn>=0.18 in /home/molecular16/anaconda3/lib/python3.11/site-packages (from lime) (1.3.0)\n",
            "Requirement already satisfied: scikit-image>=0.12 in /home/molecular16/anaconda3/lib/python3.11/site-packages (from lime) (0.20.0)\n",
            "Requirement already satisfied: networkx>=2.8 in /home/molecular16/anaconda3/lib/python3.11/site-packages (from scikit-image>=0.12->lime) (3.1)\n",
            "Requirement already satisfied: pillow>=9.0.1 in /home/molecular16/anaconda3/lib/python3.11/site-packages (from scikit-image>=0.12->lime) (9.4.0)\n",
            "Requirement already satisfied: imageio>=2.4.1 in /home/molecular16/anaconda3/lib/python3.11/site-packages (from scikit-image>=0.12->lime) (2.31.1)\n",
            "Requirement already satisfied: tifffile>=2019.7.26 in /home/molecular16/anaconda3/lib/python3.11/site-packages (from scikit-image>=0.12->lime) (2023.4.12)\n",
            "Requirement already satisfied: PyWavelets>=1.1.1 in /home/molecular16/anaconda3/lib/python3.11/site-packages (from scikit-image>=0.12->lime) (1.4.1)\n",
            "Requirement already satisfied: packaging>=20.0 in /home/molecular16/anaconda3/lib/python3.11/site-packages (from scikit-image>=0.12->lime) (23.1)\n",
            "Requirement already satisfied: lazy_loader>=0.1 in /home/molecular16/anaconda3/lib/python3.11/site-packages (from scikit-image>=0.12->lime) (0.2)\n",
            "Requirement already satisfied: joblib>=1.1.1 in /home/molecular16/anaconda3/lib/python3.11/site-packages (from scikit-learn>=0.18->lime) (1.2.0)\n",
            "Requirement already satisfied: threadpoolctl>=2.0.0 in /home/molecular16/anaconda3/lib/python3.11/site-packages (from scikit-learn>=0.18->lime) (2.2.0)\n",
            "Requirement already satisfied: contourpy>=1.0.1 in /home/molecular16/anaconda3/lib/python3.11/site-packages (from matplotlib->lime) (1.0.5)\n",
            "Requirement already satisfied: cycler>=0.10 in /home/molecular16/anaconda3/lib/python3.11/site-packages (from matplotlib->lime) (0.11.0)\n",
            "Requirement already satisfied: fonttools>=4.22.0 in /home/molecular16/anaconda3/lib/python3.11/site-packages (from matplotlib->lime) (4.25.0)\n",
            "Requirement already satisfied: kiwisolver>=1.0.1 in /home/molecular16/anaconda3/lib/python3.11/site-packages (from matplotlib->lime) (1.4.4)\n",
            "Requirement already satisfied: pyparsing<3.1,>=2.3.1 in /home/molecular16/anaconda3/lib/python3.11/site-packages (from matplotlib->lime) (3.0.9)\n",
            "Requirement already satisfied: python-dateutil>=2.7 in /home/molecular16/anaconda3/lib/python3.11/site-packages (from matplotlib->lime) (2.8.2)\n",
            "Requirement already satisfied: six>=1.5 in /home/molecular16/anaconda3/lib/python3.11/site-packages (from python-dateutil>=2.7->matplotlib->lime) (1.16.0)\n"
          ]
        }
      ],
      "source": [
        "!pip install lime"
      ]
    },
    {
      "cell_type": "code",
      "execution_count": 6,
      "metadata": {
        "id": "qTibJqDpPXNw",
        "colab": {
          "base_uri": "https://localhost:8080/",
          "height": 399
        },
        "outputId": "eee89c0f-992b-4fbe-fb37-b6feddf54d77"
      },
      "outputs": [
        {
          "output_type": "error",
          "ename": "ModuleNotFoundError",
          "evalue": "No module named 'lime'",
          "traceback": [
            "\u001b[0;31m---------------------------------------------------------------------------\u001b[0m",
            "\u001b[0;31mModuleNotFoundError\u001b[0m                       Traceback (most recent call last)",
            "\u001b[0;32m/tmp/ipython-input-1691826896.py\u001b[0m in \u001b[0;36m<cell line: 0>\u001b[0;34m()\u001b[0m\n\u001b[0;32m----> 1\u001b[0;31m \u001b[0;32mfrom\u001b[0m \u001b[0mlime\u001b[0m\u001b[0;34m.\u001b[0m\u001b[0mlime_text\u001b[0m \u001b[0;32mimport\u001b[0m \u001b[0mLimeTextExplainer\u001b[0m\u001b[0;34m\u001b[0m\u001b[0;34m\u001b[0m\u001b[0m\n\u001b[0m\u001b[1;32m      2\u001b[0m \u001b[0;32mimport\u001b[0m \u001b[0mtorch\u001b[0m\u001b[0;34m.\u001b[0m\u001b[0mnn\u001b[0m\u001b[0;34m.\u001b[0m\u001b[0mfunctional\u001b[0m \u001b[0;32mas\u001b[0m \u001b[0mF\u001b[0m\u001b[0;34m\u001b[0m\u001b[0;34m\u001b[0m\u001b[0m\n\u001b[1;32m      3\u001b[0m \u001b[0;32mimport\u001b[0m \u001b[0mnumpy\u001b[0m \u001b[0;32mas\u001b[0m \u001b[0mnp\u001b[0m\u001b[0;34m\u001b[0m\u001b[0;34m\u001b[0m\u001b[0m\n\u001b[1;32m      4\u001b[0m \u001b[0;32mimport\u001b[0m \u001b[0mmatplotlib\u001b[0m\u001b[0;34m.\u001b[0m\u001b[0mpyplot\u001b[0m \u001b[0;32mas\u001b[0m \u001b[0mplt\u001b[0m\u001b[0;34m\u001b[0m\u001b[0;34m\u001b[0m\u001b[0m\n\u001b[1;32m      5\u001b[0m \u001b[0;32mimport\u001b[0m \u001b[0mpandas\u001b[0m \u001b[0;32mas\u001b[0m \u001b[0mpd\u001b[0m\u001b[0;34m\u001b[0m\u001b[0;34m\u001b[0m\u001b[0m\n",
            "\u001b[0;31mModuleNotFoundError\u001b[0m: No module named 'lime'",
            "",
            "\u001b[0;31m---------------------------------------------------------------------------\u001b[0;32m\nNOTE: If your import is failing due to a missing package, you can\nmanually install dependencies using either !pip or !apt.\n\nTo view examples of installing some common dependencies, click the\n\"Open Examples\" button below.\n\u001b[0;31m---------------------------------------------------------------------------\u001b[0m\n"
          ],
          "errorDetails": {
            "actions": [
              {
                "action": "open_url",
                "actionText": "Open Examples",
                "url": "/notebooks/snippets/importing_libraries.ipynb"
              }
            ]
          }
        }
      ],
      "source": [
        "from lime.lime_text import LimeTextExplainer\n",
        "import torch.nn.functional as F\n",
        "import numpy as np\n",
        "import matplotlib.pyplot as plt\n",
        "import pandas as pd\n",
        "\n",
        "# === Load dataset ===\n",
        "df = pd.read_csv(\"hemolytic_balanced_data_combined.csv\")\n",
        "\n",
        "# Drop sequences with length smaller than 6 and create a new dataframe\n",
        "df_filtered = df[df['sequence'].str.len() >= 9].copy()\n",
        "df = df_filtered\n",
        "\n",
        "df['sequence'] = df['sequence'].astype(str)\n",
        "df['label'] = df['hemolytic']\n",
        "\n",
        "# === Tokenization into k-mers ===\n",
        "def seq_to_kmers(seq, k=3):\n",
        "    return ' '.join([seq[i:i + k] for i in range(len(seq) - k + 1)])\n",
        "\n",
        "k = 9\n",
        "df['kmers'] = df['sequence'].apply(lambda seq: seq_to_kmers(seq, k))\n",
        "\n",
        "# === Helper to reconstruct full sequence from k-mers ===\n",
        "def kmers_to_seq(kmer_str, k=3):\n",
        "    kmers = kmer_str.split()\n",
        "    if not kmers:\n",
        "        return ''\n",
        "    return kmers[0] + ''.join([k[-1] for k in kmers[1:]])\n",
        "\n",
        "# === Prediction wrapper for LIME (accepts k-mer strings) ===\n",
        "class_names = ['non-hemolytic', 'hemolytic']\n",
        "\n",
        "def lime_predict_kmers(kmer_texts):\n",
        "    # Convert k-mer text back to raw sequences\n",
        "    sequences = [kmers_to_seq(text, k) for text in kmer_texts]\n",
        "\n",
        "    model.eval()\n",
        "    with torch.no_grad():\n",
        "        # Filter out invalid inputs\n",
        "        valid_sequences = [seq for seq in sequences if isinstance(seq, str) and len(seq) > 0]\n",
        "        if not valid_sequences:\n",
        "            return np.array([[0.5, 0.5]] * len(sequences))\n",
        "\n",
        "        # ESM and one-hot encodings\n",
        "        esm_feats = extract_esm_embeddings(valid_sequences)  # tensor [B, D]\n",
        "        onehot_seqs = sequence_to_onehot(valid_sequences).float()  # tensor [B, L, 4]\n",
        "        outputs = model(esm_feats, onehot_seqs)\n",
        "        probs = F.softmax(outputs, dim=1).cpu().numpy()\n",
        "\n",
        "        # Reassign to full array\n",
        "        full_probs = np.zeros((len(sequences), len(class_names)))\n",
        "        valid_idx = 0\n",
        "        for i, seq in enumerate(sequences):\n",
        "            if isinstance(seq, str) and len(seq) > 0:\n",
        "                full_probs[i] = probs[valid_idx]\n",
        "                valid_idx += 1\n",
        "            else:\n",
        "                full_probs[i] = np.array([0.5, 0.5])\n",
        "        return full_probs\n",
        "\n",
        "# === LIME explainer with whitespace as k-mer separator ===\n",
        "explainer = LimeTextExplainer(class_names=class_names, split_expression='\\\\s+')\n",
        "\n",
        "# === Select top-N high-confidence toxic sequences ===\n",
        "raw_sequences = df['sequence'].tolist()\n",
        "labels = df['label'].tolist()\n",
        "kmer_texts = df['kmers'].tolist()\n",
        "\n",
        "probs = lime_predict_kmers(kmer_texts)\n",
        "high_conf_ids = np.where((np.array(labels) == 1) & (probs[:, 1] > 0.8))[0]\n",
        "selected_ids = high_conf_ids[:40]\n",
        "\n",
        "# === Run LIME explanation ===\n",
        "for i, idx in enumerate(selected_ids):\n",
        "    kmer_input = kmer_texts[idx]\n",
        "    original_seq = df.iloc[idx]['sequence']\n",
        "\n",
        "    explanation = explainer.explain_instance(kmer_input, lime_predict_kmers, num_features=10, labels=[1], num_samples=1000)\n",
        "\n",
        "    print(f\"\\n🧬 Sequence {i+1}: {original_seq}\")\n",
        "    print(\"Top influential k-mers (toward hemolytic):\")\n",
        "    for token, weight in explanation.as_list(label=1):\n",
        "        print(f\"  {token}: {weight:.4f}\")\n",
        "\n",
        "    # Highlight influential regions in the original sequence\n",
        "    highlighted = original_seq\n",
        "    sorted_kmers = sorted(explanation.as_list(label=1), key=lambda x: abs(x[1]), reverse=True)\n",
        "    for kmer, _ in sorted_kmers:\n",
        "        highlighted = highlighted.replace(kmer, f\"<{kmer}>\")\n",
        "    print(\"Highlighted:\", highlighted)\n",
        "\n",
        "    try:\n",
        "        explanation.show_in_notebook()\n",
        "        fig = explanation.as_pyplot_figure(label=1)\n",
        "        plt.title(f\"LIME Explanation for Sequence {i+1}\")\n",
        "        plt.show()\n",
        "    except Exception as e:\n",
        "        print(f\"Could not generate plot for sequence {i+1}: {e}\")"
      ]
    },
    {
      "cell_type": "code",
      "execution_count": 5,
      "metadata": {
        "id": "QavcKAAgPfNP",
        "colab": {
          "base_uri": "https://localhost:8080/",
          "height": 399
        },
        "outputId": "4fd37a91-9690-42ac-f50e-e7485653809e"
      },
      "outputs": [
        {
          "output_type": "error",
          "ename": "ModuleNotFoundError",
          "evalue": "No module named 'lime'",
          "traceback": [
            "\u001b[0;31m---------------------------------------------------------------------------\u001b[0m",
            "\u001b[0;31mModuleNotFoundError\u001b[0m                       Traceback (most recent call last)",
            "\u001b[0;32m/tmp/ipython-input-279142957.py\u001b[0m in \u001b[0;36m<cell line: 0>\u001b[0;34m()\u001b[0m\n\u001b[0;32m----> 1\u001b[0;31m \u001b[0;32mfrom\u001b[0m \u001b[0mlime\u001b[0m\u001b[0;34m.\u001b[0m\u001b[0mlime_text\u001b[0m \u001b[0;32mimport\u001b[0m \u001b[0mLimeTextExplainer\u001b[0m\u001b[0;34m\u001b[0m\u001b[0;34m\u001b[0m\u001b[0m\n\u001b[0m\u001b[1;32m      2\u001b[0m \u001b[0;32mimport\u001b[0m \u001b[0mtorch\u001b[0m\u001b[0;34m.\u001b[0m\u001b[0mnn\u001b[0m\u001b[0;34m.\u001b[0m\u001b[0mfunctional\u001b[0m \u001b[0;32mas\u001b[0m \u001b[0mF\u001b[0m\u001b[0;34m\u001b[0m\u001b[0;34m\u001b[0m\u001b[0m\n\u001b[1;32m      3\u001b[0m \u001b[0;32mimport\u001b[0m \u001b[0mnumpy\u001b[0m \u001b[0;32mas\u001b[0m \u001b[0mnp\u001b[0m\u001b[0;34m\u001b[0m\u001b[0;34m\u001b[0m\u001b[0m\n\u001b[1;32m      4\u001b[0m \u001b[0;32mimport\u001b[0m \u001b[0mmatplotlib\u001b[0m\u001b[0;34m.\u001b[0m\u001b[0mpyplot\u001b[0m \u001b[0;32mas\u001b[0m \u001b[0mplt\u001b[0m\u001b[0;34m\u001b[0m\u001b[0;34m\u001b[0m\u001b[0m\n\u001b[1;32m      5\u001b[0m \u001b[0;32mimport\u001b[0m \u001b[0mpandas\u001b[0m \u001b[0;32mas\u001b[0m \u001b[0mpd\u001b[0m\u001b[0;34m\u001b[0m\u001b[0;34m\u001b[0m\u001b[0m\n",
            "\u001b[0;31mModuleNotFoundError\u001b[0m: No module named 'lime'",
            "",
            "\u001b[0;31m---------------------------------------------------------------------------\u001b[0;32m\nNOTE: If your import is failing due to a missing package, you can\nmanually install dependencies using either !pip or !apt.\n\nTo view examples of installing some common dependencies, click the\n\"Open Examples\" button below.\n\u001b[0;31m---------------------------------------------------------------------------\u001b[0m\n"
          ],
          "errorDetails": {
            "actions": [
              {
                "action": "open_url",
                "actionText": "Open Examples",
                "url": "/notebooks/snippets/importing_libraries.ipynb"
              }
            ]
          }
        }
      ],
      "source": [
        "from lime.lime_text import LimeTextExplainer\n",
        "import torch.nn.functional as F\n",
        "import numpy as np\n",
        "import matplotlib.pyplot as plt\n",
        "import pandas as pd\n",
        "\n",
        "# === Load dataset ===\n",
        "df = pd.read_csv(\"hemolytic_balanced_data_combined.csv\")\n",
        "\n",
        "# Drop sequences with length smaller than 6 and create a new dataframe\n",
        "df_filtered = df[df['sequence'].str.len() >= 9].copy()\n",
        "df = df_filtered\n",
        "\n",
        "df['sequence'] = df['sequence'].astype(str)\n",
        "df['label'] = df['hemolytic']\n",
        "\n",
        "# === Tokenization into k-mers ===\n",
        "def seq_to_kmers(seq, k=3):\n",
        "    return ' '.join([seq[i:i + k] for i in range(len(seq) - k + 1)])\n",
        "\n",
        "k = 9\n",
        "df['kmers'] = df['sequence'].apply(lambda seq: seq_to_kmers(seq, k))\n",
        "\n",
        "# === Helper to reconstruct full sequence from k-mers ===\n",
        "def kmers_to_seq(kmer_str, k=3):\n",
        "    kmers = kmer_str.split()\n",
        "    if not kmers:\n",
        "        return ''\n",
        "    return kmers[0] + ''.join([k[-1] for k in kmers[1:]])\n",
        "\n",
        "# === Prediction wrapper for LIME (accepts k-mer strings) ===\n",
        "class_names = ['hemolytic', 'non-hemolytic']\n",
        "\n",
        "def lime_predict_kmers(kmer_texts):\n",
        "    # Convert k-mer text back to raw sequences\n",
        "    sequences = [kmers_to_seq(text, k) for text in kmer_texts]\n",
        "\n",
        "    model.eval()\n",
        "    with torch.no_grad():\n",
        "        # Filter out invalid inputs\n",
        "        valid_sequences = [seq for seq in sequences if isinstance(seq, str) and len(seq) > 0]\n",
        "        if not valid_sequences:\n",
        "            return np.array([[0.5, 0.5]] * len(sequences))\n",
        "\n",
        "        # ESM and one-hot encodings\n",
        "        esm_feats = extract_esm_embeddings(valid_sequences)  # tensor [B, D]\n",
        "        onehot_seqs = sequence_to_onehot(valid_sequences).float()  # tensor [B, L, 4]\n",
        "        outputs = model(esm_feats, onehot_seqs)\n",
        "        probs = F.softmax(outputs, dim=1).cpu().numpy()\n",
        "\n",
        "        # Reassign to full array\n",
        "        full_probs = np.zeros((len(sequences), len(class_names)))\n",
        "        valid_idx = 0\n",
        "        for i, seq in enumerate(sequences):\n",
        "            if isinstance(seq, str) and len(seq) > 0:\n",
        "                full_probs[i] = probs[valid_idx]\n",
        "                valid_idx += 1\n",
        "            else:\n",
        "                full_probs[i] = np.array([0.5, 0.5])\n",
        "        return full_probs\n",
        "\n",
        "# === LIME explainer with whitespace as k-mer separator ===\n",
        "explainer = LimeTextExplainer(class_names=class_names, split_expression='\\\\s+')\n",
        "\n",
        "# === Select top-N high-confidence toxic sequences ===\n",
        "raw_sequences = df['sequence'].tolist()\n",
        "labels = df['label'].tolist()\n",
        "kmer_texts = df['kmers'].tolist()\n",
        "\n",
        "probs = lime_predict_kmers(kmer_texts)\n",
        "high_conf_ids = np.where((np.array(labels) == 0) & (probs[:, 1] > 0.8))[0]\n",
        "selected_ids = high_conf_ids[:40]\n",
        "\n",
        "# === Run LIME explanation ===\n",
        "for i, idx in enumerate(selected_ids):\n",
        "    kmer_input = kmer_texts[idx]\n",
        "    original_seq = df.iloc[idx]['sequence']\n",
        "\n",
        "    explanation = explainer.explain_instance(kmer_input, lime_predict_kmers, num_features=10, labels=[0], num_samples=1000)\n",
        "\n",
        "    print(f\"\\n🧬 Sequence {i+1}: {original_seq}\")\n",
        "    print(\"Top influential k-mers (toward non-hemolytic):\")\n",
        "    for token, weight in explanation.as_list(label=0):\n",
        "        print(f\"  {token}: {weight:.4f}\")\n",
        "\n",
        "    # Highlight influential regions in the original sequence\n",
        "    highlighted = original_seq\n",
        "    sorted_kmers = sorted(explanation.as_list(label=0), key=lambda x: abs(x[1]), reverse=True)\n",
        "    for kmer, _ in sorted_kmers:\n",
        "        highlighted = highlighted.replace(kmer, f\"<{kmer}>\")\n",
        "    print(\"Highlighted:\", highlighted)\n",
        "\n",
        "    try:\n",
        "        explanation.show_in_notebook()\n",
        "        fig = explanation.as_pyplot_figure(label=0)\n",
        "        plt.title(f\"LIME Explanation for Sequence {i+1}\")\n",
        "        plt.show()\n",
        "    except Exception as e:\n",
        "        print(f\"Could not generate plot for sequence {i+1}: {e}\")"
      ]
    },
    {
      "cell_type": "code",
      "execution_count": null,
      "metadata": {
        "id": "sesLtHlZPq0Q",
        "outputId": "cd5fe95b-8f55-40ee-b5e4-2dbeff2f1e4d"
      },
      "outputs": [
        {
          "name": "stdout",
          "output_type": "stream",
          "text": [
            "Defaulting to user installation because normal site-packages is not writeable\n",
            "Requirement already satisfied: anchor-exp in /home/molecular16/.local/lib/python3.11/site-packages (0.0.2.0)\n",
            "Requirement already satisfied: numpy in /home/molecular16/anaconda3/lib/python3.11/site-packages (from anchor-exp) (1.24.3)\n",
            "Requirement already satisfied: scipy in /home/molecular16/anaconda3/lib/python3.11/site-packages (from anchor-exp) (1.11.1)\n",
            "Requirement already satisfied: spacy in /home/molecular16/.local/lib/python3.11/site-packages (from anchor-exp) (3.8.7)\n",
            "Requirement already satisfied: lime in /home/molecular16/.local/lib/python3.11/site-packages (from anchor-exp) (0.2.0.1)\n",
            "Requirement already satisfied: scikit-learn>=0.22 in /home/molecular16/anaconda3/lib/python3.11/site-packages (from anchor-exp) (1.3.0)\n",
            "Requirement already satisfied: joblib>=1.1.1 in /home/molecular16/anaconda3/lib/python3.11/site-packages (from scikit-learn>=0.22->anchor-exp) (1.2.0)\n",
            "Requirement already satisfied: threadpoolctl>=2.0.0 in /home/molecular16/anaconda3/lib/python3.11/site-packages (from scikit-learn>=0.22->anchor-exp) (2.2.0)\n",
            "Requirement already satisfied: matplotlib in /home/molecular16/anaconda3/lib/python3.11/site-packages (from lime->anchor-exp) (3.7.2)\n",
            "Requirement already satisfied: tqdm in /home/molecular16/anaconda3/lib/python3.11/site-packages (from lime->anchor-exp) (4.65.0)\n",
            "Requirement already satisfied: scikit-image>=0.12 in /home/molecular16/anaconda3/lib/python3.11/site-packages (from lime->anchor-exp) (0.20.0)\n",
            "Requirement already satisfied: spacy-legacy<3.1.0,>=3.0.11 in /home/molecular16/.local/lib/python3.11/site-packages (from spacy->anchor-exp) (3.0.12)\n",
            "Requirement already satisfied: spacy-loggers<2.0.0,>=1.0.0 in /home/molecular16/.local/lib/python3.11/site-packages (from spacy->anchor-exp) (1.0.5)\n",
            "Requirement already satisfied: murmurhash<1.1.0,>=0.28.0 in /home/molecular16/.local/lib/python3.11/site-packages (from spacy->anchor-exp) (1.0.13)\n",
            "Requirement already satisfied: cymem<2.1.0,>=2.0.2 in /home/molecular16/.local/lib/python3.11/site-packages (from spacy->anchor-exp) (2.0.11)\n",
            "Requirement already satisfied: preshed<3.1.0,>=3.0.2 in /home/molecular16/.local/lib/python3.11/site-packages (from spacy->anchor-exp) (3.0.10)\n",
            "Requirement already satisfied: thinc<8.4.0,>=8.3.4 in /home/molecular16/.local/lib/python3.11/site-packages (from spacy->anchor-exp) (8.3.4)\n",
            "Requirement already satisfied: wasabi<1.2.0,>=0.9.1 in /home/molecular16/.local/lib/python3.11/site-packages (from spacy->anchor-exp) (1.1.3)\n",
            "Requirement already satisfied: srsly<3.0.0,>=2.4.3 in /home/molecular16/.local/lib/python3.11/site-packages (from spacy->anchor-exp) (2.5.1)\n",
            "Requirement already satisfied: catalogue<2.1.0,>=2.0.6 in /home/molecular16/.local/lib/python3.11/site-packages (from spacy->anchor-exp) (2.0.10)\n",
            "Requirement already satisfied: weasel<0.5.0,>=0.1.0 in /home/molecular16/.local/lib/python3.11/site-packages (from spacy->anchor-exp) (0.4.1)\n",
            "Requirement already satisfied: typer<1.0.0,>=0.3.0 in /home/molecular16/.local/lib/python3.11/site-packages (from spacy->anchor-exp) (0.16.0)\n",
            "Requirement already satisfied: requests<3.0.0,>=2.13.0 in /home/molecular16/anaconda3/lib/python3.11/site-packages (from spacy->anchor-exp) (2.31.0)\n",
            "Requirement already satisfied: pydantic!=1.8,!=1.8.1,<3.0.0,>=1.7.4 in /home/molecular16/anaconda3/lib/python3.11/site-packages (from spacy->anchor-exp) (1.10.8)\n",
            "Requirement already satisfied: jinja2 in /home/molecular16/anaconda3/lib/python3.11/site-packages (from spacy->anchor-exp) (3.1.2)\n",
            "Requirement already satisfied: setuptools in /home/molecular16/anaconda3/lib/python3.11/site-packages (from spacy->anchor-exp) (68.0.0)\n",
            "Requirement already satisfied: packaging>=20.0 in /home/molecular16/anaconda3/lib/python3.11/site-packages (from spacy->anchor-exp) (23.1)\n",
            "Requirement already satisfied: langcodes<4.0.0,>=3.2.0 in /home/molecular16/.local/lib/python3.11/site-packages (from spacy->anchor-exp) (3.5.0)\n",
            "Requirement already satisfied: language-data>=1.2 in /home/molecular16/.local/lib/python3.11/site-packages (from langcodes<4.0.0,>=3.2.0->spacy->anchor-exp) (1.3.0)\n",
            "Requirement already satisfied: typing-extensions>=4.2.0 in /home/molecular16/.local/lib/python3.11/site-packages (from pydantic!=1.8,!=1.8.1,<3.0.0,>=1.7.4->spacy->anchor-exp) (4.14.1)\n",
            "Requirement already satisfied: charset-normalizer<4,>=2 in /home/molecular16/anaconda3/lib/python3.11/site-packages (from requests<3.0.0,>=2.13.0->spacy->anchor-exp) (2.0.4)\n",
            "Requirement already satisfied: idna<4,>=2.5 in /home/molecular16/anaconda3/lib/python3.11/site-packages (from requests<3.0.0,>=2.13.0->spacy->anchor-exp) (3.4)\n",
            "Requirement already satisfied: urllib3<3,>=1.21.1 in /home/molecular16/anaconda3/lib/python3.11/site-packages (from requests<3.0.0,>=2.13.0->spacy->anchor-exp) (1.26.16)\n",
            "Requirement already satisfied: certifi>=2017.4.17 in /home/molecular16/anaconda3/lib/python3.11/site-packages (from requests<3.0.0,>=2.13.0->spacy->anchor-exp) (2023.7.22)\n",
            "Requirement already satisfied: networkx>=2.8 in /home/molecular16/anaconda3/lib/python3.11/site-packages (from scikit-image>=0.12->lime->anchor-exp) (3.1)\n",
            "Requirement already satisfied: pillow>=9.0.1 in /home/molecular16/anaconda3/lib/python3.11/site-packages (from scikit-image>=0.12->lime->anchor-exp) (9.4.0)\n",
            "Requirement already satisfied: imageio>=2.4.1 in /home/molecular16/anaconda3/lib/python3.11/site-packages (from scikit-image>=0.12->lime->anchor-exp) (2.31.1)\n",
            "Requirement already satisfied: tifffile>=2019.7.26 in /home/molecular16/anaconda3/lib/python3.11/site-packages (from scikit-image>=0.12->lime->anchor-exp) (2023.4.12)\n",
            "Requirement already satisfied: PyWavelets>=1.1.1 in /home/molecular16/anaconda3/lib/python3.11/site-packages (from scikit-image>=0.12->lime->anchor-exp) (1.4.1)\n",
            "Requirement already satisfied: lazy_loader>=0.1 in /home/molecular16/anaconda3/lib/python3.11/site-packages (from scikit-image>=0.12->lime->anchor-exp) (0.2)\n",
            "Requirement already satisfied: blis<1.3.0,>=1.2.0 in /home/molecular16/.local/lib/python3.11/site-packages (from thinc<8.4.0,>=8.3.4->spacy->anchor-exp) (1.2.1)\n",
            "Requirement already satisfied: confection<1.0.0,>=0.0.1 in /home/molecular16/.local/lib/python3.11/site-packages (from thinc<8.4.0,>=8.3.4->spacy->anchor-exp) (0.1.5)\n",
            "Requirement already satisfied: click>=8.0.0 in /home/molecular16/anaconda3/lib/python3.11/site-packages (from typer<1.0.0,>=0.3.0->spacy->anchor-exp) (8.0.4)\n",
            "Requirement already satisfied: shellingham>=1.3.0 in /home/molecular16/.local/lib/python3.11/site-packages (from typer<1.0.0,>=0.3.0->spacy->anchor-exp) (1.5.4)\n",
            "Requirement already satisfied: rich>=10.11.0 in /home/molecular16/.local/lib/python3.11/site-packages (from typer<1.0.0,>=0.3.0->spacy->anchor-exp) (14.0.0)\n",
            "Requirement already satisfied: cloudpathlib<1.0.0,>=0.7.0 in /home/molecular16/.local/lib/python3.11/site-packages (from weasel<0.5.0,>=0.1.0->spacy->anchor-exp) (0.21.1)\n",
            "Requirement already satisfied: smart-open<8.0.0,>=5.2.1 in /home/molecular16/anaconda3/lib/python3.11/site-packages (from weasel<0.5.0,>=0.1.0->spacy->anchor-exp) (5.2.1)\n",
            "Requirement already satisfied: MarkupSafe>=2.0 in /home/molecular16/anaconda3/lib/python3.11/site-packages (from jinja2->spacy->anchor-exp) (2.1.1)\n",
            "Requirement already satisfied: contourpy>=1.0.1 in /home/molecular16/anaconda3/lib/python3.11/site-packages (from matplotlib->lime->anchor-exp) (1.0.5)\n",
            "Requirement already satisfied: cycler>=0.10 in /home/molecular16/anaconda3/lib/python3.11/site-packages (from matplotlib->lime->anchor-exp) (0.11.0)\n",
            "Requirement already satisfied: fonttools>=4.22.0 in /home/molecular16/anaconda3/lib/python3.11/site-packages (from matplotlib->lime->anchor-exp) (4.25.0)\n",
            "Requirement already satisfied: kiwisolver>=1.0.1 in /home/molecular16/anaconda3/lib/python3.11/site-packages (from matplotlib->lime->anchor-exp) (1.4.4)\n",
            "Requirement already satisfied: pyparsing<3.1,>=2.3.1 in /home/molecular16/anaconda3/lib/python3.11/site-packages (from matplotlib->lime->anchor-exp) (3.0.9)\n",
            "Requirement already satisfied: python-dateutil>=2.7 in /home/molecular16/anaconda3/lib/python3.11/site-packages (from matplotlib->lime->anchor-exp) (2.8.2)\n",
            "Requirement already satisfied: marisa-trie>=1.1.0 in /home/molecular16/.local/lib/python3.11/site-packages (from language-data>=1.2->langcodes<4.0.0,>=3.2.0->spacy->anchor-exp) (1.2.1)\n"
          ]
        },
        {
          "name": "stdout",
          "output_type": "stream",
          "text": [
            "Requirement already satisfied: six>=1.5 in /home/molecular16/anaconda3/lib/python3.11/site-packages (from python-dateutil>=2.7->matplotlib->lime->anchor-exp) (1.16.0)\n",
            "Requirement already satisfied: markdown-it-py>=2.2.0 in /home/molecular16/anaconda3/lib/python3.11/site-packages (from rich>=10.11.0->typer<1.0.0,>=0.3.0->spacy->anchor-exp) (2.2.0)\n",
            "Requirement already satisfied: pygments<3.0.0,>=2.13.0 in /home/molecular16/anaconda3/lib/python3.11/site-packages (from rich>=10.11.0->typer<1.0.0,>=0.3.0->spacy->anchor-exp) (2.15.1)\n",
            "Requirement already satisfied: mdurl~=0.1 in /home/molecular16/anaconda3/lib/python3.11/site-packages (from markdown-it-py>=2.2.0->rich>=10.11.0->typer<1.0.0,>=0.3.0->spacy->anchor-exp) (0.1.0)\n"
          ]
        }
      ],
      "source": [
        "!pip install anchor-exp"
      ]
    },
    {
      "cell_type": "code",
      "execution_count": 4,
      "metadata": {
        "id": "d8SBaflvPutp",
        "colab": {
          "base_uri": "https://localhost:8080/",
          "height": 399
        },
        "outputId": "8ca46c62-976a-4770-e029-d258612cf228"
      },
      "outputs": [
        {
          "output_type": "error",
          "ename": "ModuleNotFoundError",
          "evalue": "No module named 'anchor'",
          "traceback": [
            "\u001b[0;31m---------------------------------------------------------------------------\u001b[0m",
            "\u001b[0;31mModuleNotFoundError\u001b[0m                       Traceback (most recent call last)",
            "\u001b[0;32m/tmp/ipython-input-1501555757.py\u001b[0m in \u001b[0;36m<cell line: 0>\u001b[0;34m()\u001b[0m\n\u001b[0;32m----> 1\u001b[0;31m \u001b[0;32mfrom\u001b[0m \u001b[0manchor\u001b[0m \u001b[0;32mimport\u001b[0m \u001b[0manchor_text\u001b[0m\u001b[0;34m\u001b[0m\u001b[0;34m\u001b[0m\u001b[0m\n\u001b[0m\u001b[1;32m      2\u001b[0m \u001b[0;32mimport\u001b[0m \u001b[0mnumpy\u001b[0m \u001b[0;32mas\u001b[0m \u001b[0mnp\u001b[0m\u001b[0;34m\u001b[0m\u001b[0;34m\u001b[0m\u001b[0m\n\u001b[1;32m      3\u001b[0m \u001b[0;32mimport\u001b[0m \u001b[0mtorch\u001b[0m\u001b[0;34m\u001b[0m\u001b[0;34m\u001b[0m\u001b[0m\n\u001b[1;32m      4\u001b[0m \u001b[0;32mimport\u001b[0m \u001b[0mpandas\u001b[0m \u001b[0;32mas\u001b[0m \u001b[0mpd\u001b[0m\u001b[0;34m\u001b[0m\u001b[0;34m\u001b[0m\u001b[0m\n\u001b[1;32m      5\u001b[0m \u001b[0;34m\u001b[0m\u001b[0m\n",
            "\u001b[0;31mModuleNotFoundError\u001b[0m: No module named 'anchor'",
            "",
            "\u001b[0;31m---------------------------------------------------------------------------\u001b[0;32m\nNOTE: If your import is failing due to a missing package, you can\nmanually install dependencies using either !pip or !apt.\n\nTo view examples of installing some common dependencies, click the\n\"Open Examples\" button below.\n\u001b[0;31m---------------------------------------------------------------------------\u001b[0m\n"
          ],
          "errorDetails": {
            "actions": [
              {
                "action": "open_url",
                "actionText": "Open Examples",
                "url": "/notebooks/snippets/importing_libraries.ipynb"
              }
            ]
          }
        }
      ],
      "source": [
        "from anchor import anchor_text\n",
        "import numpy as np\n",
        "import torch\n",
        "import pandas as pd\n",
        "\n",
        "# === Load dataset ===\n",
        "df = pd.read_csv(\"hemolytic_balanced_data_combined.csv\")\n",
        "\n",
        "# Drop sequences with length smaller than 6 and create a new dataframe\n",
        "df_filtered = df[df['sequence'].str.len() >= 9].copy()\n",
        "df = df_filtered\n",
        "\n",
        "df['sequence'] = df['sequence'].astype(str)\n",
        "df['label'] = df['hemolytic']\n",
        "\n",
        "# === Convert sequence to k-mers ===\n",
        "def seq_to_kmers(seq, k=3):\n",
        "    return ' '.join([seq[i:i + k] for i in range(len(seq) - k + 1)])\n",
        "\n",
        "# === Convert k-mers back to sequence ===\n",
        "def kmers_to_seq(kmer_str, k=3):\n",
        "    kmers = kmer_str.split()\n",
        "    if not kmers: return ''\n",
        "    return kmers[0] + ''.join([k[-1] for k in kmers[1:]])\n",
        "\n",
        "k = 9\n",
        "df['kmers'] = df['sequence'].apply(lambda seq: seq_to_kmers(seq, k))\n",
        "kmer_texts = df['kmers'].tolist()\n",
        "raw_sequences = df['sequence'].tolist()\n",
        "labels = df['label'].tolist()\n",
        "\n",
        "# === Prediction using ESM + one-hot ===\n",
        "def predict_fn_esm(sequences):\n",
        "    model.eval()\n",
        "    with torch.no_grad():\n",
        "        valid_sequences = [s for s in sequences if isinstance(s, str) and len(s) > 0]\n",
        "        if not valid_sequences:\n",
        "            return np.array([[0.5, 0.5]] * len(sequences))\n",
        "\n",
        "        esm_feats = extract_esm_embeddings(valid_sequences)\n",
        "        onehot = sequence_to_onehot(valid_sequences).float()\n",
        "        outputs = model(esm_feats, onehot)\n",
        "        probs = torch.softmax(outputs, dim=1).cpu().numpy()\n",
        "\n",
        "        full_probs = np.zeros((len(sequences), 2))\n",
        "        valid_idx = 0\n",
        "        for i, seq in enumerate(sequences):\n",
        "            if isinstance(seq, str) and len(seq) > 0:\n",
        "                full_probs[i] = probs[valid_idx]\n",
        "                valid_idx += 1\n",
        "            else:\n",
        "                full_probs[i] = np.array([0.5, 0.5])\n",
        "        return full_probs\n",
        "\n",
        "# === Wrapper for AnchorText (returns class predictions) ===\n",
        "def predict_probs_kmers_anchor(kmer_seqs):\n",
        "    recovered_seqs = [kmers_to_seq(text, k=k) for text in kmer_seqs]\n",
        "    return predict_fn_esm(recovered_seqs)\n",
        "\n",
        "def predict_class_kmers_anchor(kmer_seqs):\n",
        "    probs = predict_probs_kmers_anchor(kmer_seqs)\n",
        "    return np.argmax(probs, axis=1)\n",
        "\n",
        "# === Dummy tokenizer for AnchorText ===\n",
        "class DummyToken:\n",
        "    def __init__(self, text, idx):\n",
        "        self.text = text\n",
        "        self.idx = idx\n",
        "\n",
        "class DummyTokenizer:\n",
        "    def __call__(self, text):\n",
        "        tokens = text.split()\n",
        "        return [DummyToken(token, i) for i, token in enumerate(tokens)]\n",
        "\n",
        "# === Find top high-confidence toxic predictions ===\n",
        "probs = predict_fn_esm(raw_sequences)\n",
        "high_conf_ids = np.where((np.array(labels) == 1) & (probs[:, 1] > 0.8))[0]\n",
        "selected_ids = high_conf_ids[:40]\n",
        "\n",
        "# === Create AnchorText explainer ===\n",
        "class_names = ['non-hemolytic', 'hemolytic']\n",
        "explainer = anchor_text.AnchorText(nlp=DummyTokenizer(), class_names=class_names)\n",
        "\n",
        "# === Explain selected instances ===\n",
        "for i, idx in enumerate(selected_ids):\n",
        "    print(f\"\\n🧬 Explaining Sequence {i+1} (Index {idx})\")\n",
        "    print(\"Original Sequence:\", raw_sequences[idx])\n",
        "\n",
        "    explanation = explainer.explain_instance(\n",
        "        kmer_texts[idx],\n",
        "        classifier_fn=predict_class_kmers_anchor,\n",
        "        threshold=0.95\n",
        "    )\n",
        "\n",
        "    print(\"\\n🔍 Anchor Explanation:\")\n",
        "    print('Anchor (if these k-mers present → hemolytic):', ' AND '.join(explanation.names()))\n",
        "    print('Precision:', explanation.precision())\n",
        "    print('Coverage:', explanation.coverage())\n",
        "    explanation.show_in_notebook()"
      ]
    },
    {
      "cell_type": "code",
      "execution_count": 3,
      "metadata": {
        "id": "k-uN7UK7P18v",
        "colab": {
          "base_uri": "https://localhost:8080/",
          "height": 399
        },
        "outputId": "2d4a0bbb-0d08-4081-9736-7bb55ec2228f"
      },
      "outputs": [
        {
          "output_type": "error",
          "ename": "ModuleNotFoundError",
          "evalue": "No module named 'anchor'",
          "traceback": [
            "\u001b[0;31m---------------------------------------------------------------------------\u001b[0m",
            "\u001b[0;31mModuleNotFoundError\u001b[0m                       Traceback (most recent call last)",
            "\u001b[0;32m/tmp/ipython-input-2326196629.py\u001b[0m in \u001b[0;36m<cell line: 0>\u001b[0;34m()\u001b[0m\n\u001b[0;32m----> 1\u001b[0;31m \u001b[0;32mfrom\u001b[0m \u001b[0manchor\u001b[0m \u001b[0;32mimport\u001b[0m \u001b[0manchor_text\u001b[0m\u001b[0;34m\u001b[0m\u001b[0;34m\u001b[0m\u001b[0m\n\u001b[0m\u001b[1;32m      2\u001b[0m \u001b[0;32mimport\u001b[0m \u001b[0mnumpy\u001b[0m \u001b[0;32mas\u001b[0m \u001b[0mnp\u001b[0m\u001b[0;34m\u001b[0m\u001b[0;34m\u001b[0m\u001b[0m\n\u001b[1;32m      3\u001b[0m \u001b[0;32mimport\u001b[0m \u001b[0mtorch\u001b[0m\u001b[0;34m\u001b[0m\u001b[0;34m\u001b[0m\u001b[0m\n\u001b[1;32m      4\u001b[0m \u001b[0;32mimport\u001b[0m \u001b[0mpandas\u001b[0m \u001b[0;32mas\u001b[0m \u001b[0mpd\u001b[0m\u001b[0;34m\u001b[0m\u001b[0;34m\u001b[0m\u001b[0m\n\u001b[1;32m      5\u001b[0m \u001b[0;34m\u001b[0m\u001b[0m\n",
            "\u001b[0;31mModuleNotFoundError\u001b[0m: No module named 'anchor'",
            "",
            "\u001b[0;31m---------------------------------------------------------------------------\u001b[0;32m\nNOTE: If your import is failing due to a missing package, you can\nmanually install dependencies using either !pip or !apt.\n\nTo view examples of installing some common dependencies, click the\n\"Open Examples\" button below.\n\u001b[0;31m---------------------------------------------------------------------------\u001b[0m\n"
          ],
          "errorDetails": {
            "actions": [
              {
                "action": "open_url",
                "actionText": "Open Examples",
                "url": "/notebooks/snippets/importing_libraries.ipynb"
              }
            ]
          }
        }
      ],
      "source": [
        "from anchor import anchor_text\n",
        "import numpy as np\n",
        "import torch\n",
        "import pandas as pd\n",
        "\n",
        "# === Load dataset ===\n",
        "df = pd.read_csv(\"hemolytic_balanced_data_combined.csv\")\n",
        "\n",
        "# Drop sequences with length smaller than 6 and create a new dataframe\n",
        "df_filtered = df[df['sequence'].str.len() >= 9].copy()\n",
        "df = df_filtered\n",
        "\n",
        "df['sequence'] = df['sequence'].astype(str)\n",
        "df['label'] = df['hemolytic']\n",
        "\n",
        "# === Convert sequence to k-mers ===\n",
        "def seq_to_kmers(seq, k=3):\n",
        "    return ' '.join([seq[i:i + k] for i in range(len(seq) - k + 1)])\n",
        "\n",
        "# === Convert k-mers back to sequence ===\n",
        "def kmers_to_seq(kmer_str, k=3):\n",
        "    kmers = kmer_str.split()\n",
        "    if not kmers: return ''\n",
        "    return kmers[0] + ''.join([k[-1] for k in kmers[1:]])\n",
        "\n",
        "k = 9\n",
        "df['kmers'] = df['sequence'].apply(lambda seq: seq_to_kmers(seq, k))\n",
        "kmer_texts = df['kmers'].tolist()\n",
        "raw_sequences = df['sequence'].tolist()\n",
        "labels = df['label'].tolist()\n",
        "\n",
        "# === Prediction using ESM + one-hot ===\n",
        "def predict_fn_esm(sequences):\n",
        "    model.eval()\n",
        "    with torch.no_grad():\n",
        "        valid_sequences = [s for s in sequences if isinstance(s, str) and len(s) > 0]\n",
        "        if not valid_sequences:\n",
        "            return np.array([[0.5, 0.5]] * len(sequences))\n",
        "\n",
        "        esm_feats = extract_esm_embeddings(valid_sequences)\n",
        "        onehot = sequence_to_onehot(valid_sequences).float()\n",
        "        outputs = model(esm_feats, onehot)\n",
        "        probs = torch.softmax(outputs, dim=1).cpu().numpy()\n",
        "\n",
        "        full_probs = np.zeros((len(sequences), 2))\n",
        "        valid_idx = 0\n",
        "        for i, seq in enumerate(sequences):\n",
        "            if isinstance(seq, str) and len(seq) > 0:\n",
        "                full_probs[i] = probs[valid_idx]\n",
        "                valid_idx += 1\n",
        "            else:\n",
        "                full_probs[i] = np.array([0.5, 0.5])\n",
        "        return full_probs\n",
        "\n",
        "# === Wrapper for AnchorText (returns class predictions) ===\n",
        "def predict_probs_kmers_anchor(kmer_seqs):\n",
        "    recovered_seqs = [kmers_to_seq(text, k=k) for text in kmer_seqs]\n",
        "    return predict_fn_esm(recovered_seqs)\n",
        "\n",
        "def predict_class_kmers_anchor(kmer_seqs):\n",
        "    probs = predict_probs_kmers_anchor(kmer_seqs)\n",
        "    return np.argmax(probs, axis=1)\n",
        "\n",
        "# === Dummy tokenizer for AnchorText ===\n",
        "class DummyToken:\n",
        "    def __init__(self, text, idx):\n",
        "        self.text = text\n",
        "        self.idx = idx\n",
        "\n",
        "class DummyTokenizer:\n",
        "    def __call__(self, text):\n",
        "        tokens = text.split()\n",
        "        return [DummyToken(token, i) for i, token in enumerate(tokens)]\n",
        "\n",
        "# === Find top high-confidence toxic predictions ===\n",
        "probs = predict_fn_esm(raw_sequences)\n",
        "high_conf_ids = np.where((np.array(labels) == 0) & (probs[:, 1] > 0.8))[0]\n",
        "selected_ids = high_conf_ids[:40]\n",
        "\n",
        "# === Create AnchorText explainer ===\n",
        "class_names = ['non-hemolytic', 'hemolytic']\n",
        "explainer = anchor_text.AnchorText(nlp=DummyTokenizer(), class_names=class_names)\n",
        "\n",
        "# === Explain selected instances ===\n",
        "for i, idx in enumerate(selected_ids):\n",
        "    print(f\"\\n🧬 Explaining Sequence {i+1} (Index {idx})\")\n",
        "    print(\"Original Sequence:\", raw_sequences[idx])\n",
        "\n",
        "    explanation = explainer.explain_instance(\n",
        "        kmer_texts[idx],\n",
        "        classifier_fn=predict_class_kmers_anchor,\n",
        "        threshold=0.95\n",
        "    )\n",
        "\n",
        "    print(\"\\n🔍 Anchor Explanation:\")\n",
        "    print('Anchor (if these k-mers present → non-hemolytic):', ' AND '.join(explanation.names()))\n",
        "    print('Precision:', explanation.precision())\n",
        "    print('Coverage:', explanation.coverage())\n",
        "    explanation.show_in_notebook()"
      ]
    },
    {
      "cell_type": "code",
      "execution_count": null,
      "metadata": {
        "id": "I0YpBJlW3-0U",
        "outputId": "03da915b-0ba3-4d98-d552-79faa373e03f"
      },
      "outputs": [
        {
          "name": "stdout",
          "output_type": "stream",
          "text": [
            "Defaulting to user installation because normal site-packages is not writeable\n",
            "Requirement already satisfied: shap in /home/molecular16/.local/lib/python3.11/site-packages (0.48.0)\n",
            "Requirement already satisfied: numpy in /home/molecular16/anaconda3/lib/python3.11/site-packages (from shap) (1.24.3)\n",
            "Requirement already satisfied: scipy in /home/molecular16/anaconda3/lib/python3.11/site-packages (from shap) (1.11.1)\n",
            "Requirement already satisfied: scikit-learn in /home/molecular16/anaconda3/lib/python3.11/site-packages (from shap) (1.3.0)\n",
            "Requirement already satisfied: pandas in /home/molecular16/anaconda3/lib/python3.11/site-packages (from shap) (2.0.3)\n",
            "Requirement already satisfied: tqdm>=4.27.0 in /home/molecular16/anaconda3/lib/python3.11/site-packages (from shap) (4.65.0)\n",
            "Requirement already satisfied: packaging>20.9 in /home/molecular16/anaconda3/lib/python3.11/site-packages (from shap) (23.1)\n",
            "Requirement already satisfied: slicer==0.0.8 in /home/molecular16/.local/lib/python3.11/site-packages (from shap) (0.0.8)\n",
            "Requirement already satisfied: numba>=0.54 in /home/molecular16/anaconda3/lib/python3.11/site-packages (from shap) (0.57.1)\n",
            "Requirement already satisfied: cloudpickle in /home/molecular16/anaconda3/lib/python3.11/site-packages (from shap) (2.2.1)\n",
            "Requirement already satisfied: typing-extensions in /home/molecular16/.local/lib/python3.11/site-packages (from shap) (4.14.1)\n",
            "Requirement already satisfied: llvmlite<0.41,>=0.40.0dev0 in /home/molecular16/anaconda3/lib/python3.11/site-packages (from numba>=0.54->shap) (0.40.0)\n",
            "Requirement already satisfied: python-dateutil>=2.8.2 in /home/molecular16/anaconda3/lib/python3.11/site-packages (from pandas->shap) (2.8.2)\n",
            "Requirement already satisfied: pytz>=2020.1 in /home/molecular16/anaconda3/lib/python3.11/site-packages (from pandas->shap) (2023.3.post1)\n",
            "Requirement already satisfied: tzdata>=2022.1 in /home/molecular16/anaconda3/lib/python3.11/site-packages (from pandas->shap) (2023.3)\n",
            "Requirement already satisfied: joblib>=1.1.1 in /home/molecular16/anaconda3/lib/python3.11/site-packages (from scikit-learn->shap) (1.2.0)\n",
            "Requirement already satisfied: threadpoolctl>=2.0.0 in /home/molecular16/anaconda3/lib/python3.11/site-packages (from scikit-learn->shap) (2.2.0)\n",
            "Requirement already satisfied: six>=1.5 in /home/molecular16/anaconda3/lib/python3.11/site-packages (from python-dateutil>=2.8.2->pandas->shap) (1.16.0)\n"
          ]
        }
      ],
      "source": [
        "!pip install shap"
      ]
    },
    {
      "cell_type": "code",
      "execution_count": 2,
      "metadata": {
        "colab": {
          "base_uri": "https://localhost:8080/",
          "height": 370
        },
        "id": "rrWLsqIz3-0U",
        "outputId": "8898bac2-adad-4340-a1c8-e43318e0e38a"
      },
      "outputs": [
        {
          "output_type": "error",
          "ename": "FileNotFoundError",
          "evalue": "[Errno 2] No such file or directory: 'hemolytic_balanced_data_combined.csv'",
          "traceback": [
            "\u001b[0;31m---------------------------------------------------------------------------\u001b[0m",
            "\u001b[0;31mFileNotFoundError\u001b[0m                         Traceback (most recent call last)",
            "\u001b[0;32m/tmp/ipython-input-3022101590.py\u001b[0m in \u001b[0;36m<cell line: 0>\u001b[0;34m()\u001b[0m\n\u001b[1;32m      7\u001b[0m \u001b[0;34m\u001b[0m\u001b[0m\n\u001b[1;32m      8\u001b[0m \u001b[0;31m# Load dataset\u001b[0m\u001b[0;34m\u001b[0m\u001b[0;34m\u001b[0m\u001b[0m\n\u001b[0;32m----> 9\u001b[0;31m \u001b[0mdf\u001b[0m \u001b[0;34m=\u001b[0m \u001b[0mpd\u001b[0m\u001b[0;34m.\u001b[0m\u001b[0mread_csv\u001b[0m\u001b[0;34m(\u001b[0m\u001b[0;34m\"hemolytic_balanced_data_combined.csv\"\u001b[0m\u001b[0;34m)\u001b[0m\u001b[0;34m\u001b[0m\u001b[0;34m\u001b[0m\u001b[0m\n\u001b[0m\u001b[1;32m     10\u001b[0m \u001b[0;34m\u001b[0m\u001b[0m\n\u001b[1;32m     11\u001b[0m \u001b[0;31m# Drop sequences with length smaller than 6 and create a new dataframe\u001b[0m\u001b[0;34m\u001b[0m\u001b[0;34m\u001b[0m\u001b[0m\n",
            "\u001b[0;32m/usr/local/lib/python3.12/dist-packages/pandas/io/parsers/readers.py\u001b[0m in \u001b[0;36mread_csv\u001b[0;34m(filepath_or_buffer, sep, delimiter, header, names, index_col, usecols, dtype, engine, converters, true_values, false_values, skipinitialspace, skiprows, skipfooter, nrows, na_values, keep_default_na, na_filter, verbose, skip_blank_lines, parse_dates, infer_datetime_format, keep_date_col, date_parser, date_format, dayfirst, cache_dates, iterator, chunksize, compression, thousands, decimal, lineterminator, quotechar, quoting, doublequote, escapechar, comment, encoding, encoding_errors, dialect, on_bad_lines, delim_whitespace, low_memory, memory_map, float_precision, storage_options, dtype_backend)\u001b[0m\n\u001b[1;32m   1024\u001b[0m     \u001b[0mkwds\u001b[0m\u001b[0;34m.\u001b[0m\u001b[0mupdate\u001b[0m\u001b[0;34m(\u001b[0m\u001b[0mkwds_defaults\u001b[0m\u001b[0;34m)\u001b[0m\u001b[0;34m\u001b[0m\u001b[0;34m\u001b[0m\u001b[0m\n\u001b[1;32m   1025\u001b[0m \u001b[0;34m\u001b[0m\u001b[0m\n\u001b[0;32m-> 1026\u001b[0;31m     \u001b[0;32mreturn\u001b[0m \u001b[0m_read\u001b[0m\u001b[0;34m(\u001b[0m\u001b[0mfilepath_or_buffer\u001b[0m\u001b[0;34m,\u001b[0m \u001b[0mkwds\u001b[0m\u001b[0;34m)\u001b[0m\u001b[0;34m\u001b[0m\u001b[0;34m\u001b[0m\u001b[0m\n\u001b[0m\u001b[1;32m   1027\u001b[0m \u001b[0;34m\u001b[0m\u001b[0m\n\u001b[1;32m   1028\u001b[0m \u001b[0;34m\u001b[0m\u001b[0m\n",
            "\u001b[0;32m/usr/local/lib/python3.12/dist-packages/pandas/io/parsers/readers.py\u001b[0m in \u001b[0;36m_read\u001b[0;34m(filepath_or_buffer, kwds)\u001b[0m\n\u001b[1;32m    618\u001b[0m \u001b[0;34m\u001b[0m\u001b[0m\n\u001b[1;32m    619\u001b[0m     \u001b[0;31m# Create the parser.\u001b[0m\u001b[0;34m\u001b[0m\u001b[0;34m\u001b[0m\u001b[0m\n\u001b[0;32m--> 620\u001b[0;31m     \u001b[0mparser\u001b[0m \u001b[0;34m=\u001b[0m \u001b[0mTextFileReader\u001b[0m\u001b[0;34m(\u001b[0m\u001b[0mfilepath_or_buffer\u001b[0m\u001b[0;34m,\u001b[0m \u001b[0;34m**\u001b[0m\u001b[0mkwds\u001b[0m\u001b[0;34m)\u001b[0m\u001b[0;34m\u001b[0m\u001b[0;34m\u001b[0m\u001b[0m\n\u001b[0m\u001b[1;32m    621\u001b[0m \u001b[0;34m\u001b[0m\u001b[0m\n\u001b[1;32m    622\u001b[0m     \u001b[0;32mif\u001b[0m \u001b[0mchunksize\u001b[0m \u001b[0;32mor\u001b[0m \u001b[0miterator\u001b[0m\u001b[0;34m:\u001b[0m\u001b[0;34m\u001b[0m\u001b[0;34m\u001b[0m\u001b[0m\n",
            "\u001b[0;32m/usr/local/lib/python3.12/dist-packages/pandas/io/parsers/readers.py\u001b[0m in \u001b[0;36m__init__\u001b[0;34m(self, f, engine, **kwds)\u001b[0m\n\u001b[1;32m   1618\u001b[0m \u001b[0;34m\u001b[0m\u001b[0m\n\u001b[1;32m   1619\u001b[0m         \u001b[0mself\u001b[0m\u001b[0;34m.\u001b[0m\u001b[0mhandles\u001b[0m\u001b[0;34m:\u001b[0m \u001b[0mIOHandles\u001b[0m \u001b[0;34m|\u001b[0m \u001b[0;32mNone\u001b[0m \u001b[0;34m=\u001b[0m \u001b[0;32mNone\u001b[0m\u001b[0;34m\u001b[0m\u001b[0;34m\u001b[0m\u001b[0m\n\u001b[0;32m-> 1620\u001b[0;31m         \u001b[0mself\u001b[0m\u001b[0;34m.\u001b[0m\u001b[0m_engine\u001b[0m \u001b[0;34m=\u001b[0m \u001b[0mself\u001b[0m\u001b[0;34m.\u001b[0m\u001b[0m_make_engine\u001b[0m\u001b[0;34m(\u001b[0m\u001b[0mf\u001b[0m\u001b[0;34m,\u001b[0m \u001b[0mself\u001b[0m\u001b[0;34m.\u001b[0m\u001b[0mengine\u001b[0m\u001b[0;34m)\u001b[0m\u001b[0;34m\u001b[0m\u001b[0;34m\u001b[0m\u001b[0m\n\u001b[0m\u001b[1;32m   1621\u001b[0m \u001b[0;34m\u001b[0m\u001b[0m\n\u001b[1;32m   1622\u001b[0m     \u001b[0;32mdef\u001b[0m \u001b[0mclose\u001b[0m\u001b[0;34m(\u001b[0m\u001b[0mself\u001b[0m\u001b[0;34m)\u001b[0m \u001b[0;34m->\u001b[0m \u001b[0;32mNone\u001b[0m\u001b[0;34m:\u001b[0m\u001b[0;34m\u001b[0m\u001b[0;34m\u001b[0m\u001b[0m\n",
            "\u001b[0;32m/usr/local/lib/python3.12/dist-packages/pandas/io/parsers/readers.py\u001b[0m in \u001b[0;36m_make_engine\u001b[0;34m(self, f, engine)\u001b[0m\n\u001b[1;32m   1878\u001b[0m                 \u001b[0;32mif\u001b[0m \u001b[0;34m\"b\"\u001b[0m \u001b[0;32mnot\u001b[0m \u001b[0;32min\u001b[0m \u001b[0mmode\u001b[0m\u001b[0;34m:\u001b[0m\u001b[0;34m\u001b[0m\u001b[0;34m\u001b[0m\u001b[0m\n\u001b[1;32m   1879\u001b[0m                     \u001b[0mmode\u001b[0m \u001b[0;34m+=\u001b[0m \u001b[0;34m\"b\"\u001b[0m\u001b[0;34m\u001b[0m\u001b[0;34m\u001b[0m\u001b[0m\n\u001b[0;32m-> 1880\u001b[0;31m             self.handles = get_handle(\n\u001b[0m\u001b[1;32m   1881\u001b[0m                 \u001b[0mf\u001b[0m\u001b[0;34m,\u001b[0m\u001b[0;34m\u001b[0m\u001b[0;34m\u001b[0m\u001b[0m\n\u001b[1;32m   1882\u001b[0m                 \u001b[0mmode\u001b[0m\u001b[0;34m,\u001b[0m\u001b[0;34m\u001b[0m\u001b[0;34m\u001b[0m\u001b[0m\n",
            "\u001b[0;32m/usr/local/lib/python3.12/dist-packages/pandas/io/common.py\u001b[0m in \u001b[0;36mget_handle\u001b[0;34m(path_or_buf, mode, encoding, compression, memory_map, is_text, errors, storage_options)\u001b[0m\n\u001b[1;32m    871\u001b[0m         \u001b[0;32mif\u001b[0m \u001b[0mioargs\u001b[0m\u001b[0;34m.\u001b[0m\u001b[0mencoding\u001b[0m \u001b[0;32mand\u001b[0m \u001b[0;34m\"b\"\u001b[0m \u001b[0;32mnot\u001b[0m \u001b[0;32min\u001b[0m \u001b[0mioargs\u001b[0m\u001b[0;34m.\u001b[0m\u001b[0mmode\u001b[0m\u001b[0;34m:\u001b[0m\u001b[0;34m\u001b[0m\u001b[0;34m\u001b[0m\u001b[0m\n\u001b[1;32m    872\u001b[0m             \u001b[0;31m# Encoding\u001b[0m\u001b[0;34m\u001b[0m\u001b[0;34m\u001b[0m\u001b[0m\n\u001b[0;32m--> 873\u001b[0;31m             handle = open(\n\u001b[0m\u001b[1;32m    874\u001b[0m                 \u001b[0mhandle\u001b[0m\u001b[0;34m,\u001b[0m\u001b[0;34m\u001b[0m\u001b[0;34m\u001b[0m\u001b[0m\n\u001b[1;32m    875\u001b[0m                 \u001b[0mioargs\u001b[0m\u001b[0;34m.\u001b[0m\u001b[0mmode\u001b[0m\u001b[0;34m,\u001b[0m\u001b[0;34m\u001b[0m\u001b[0;34m\u001b[0m\u001b[0m\n",
            "\u001b[0;31mFileNotFoundError\u001b[0m: [Errno 2] No such file or directory: 'hemolytic_balanced_data_combined.csv'"
          ]
        }
      ],
      "source": [
        "import shap\n",
        "import torch\n",
        "import torch.nn.functional as F\n",
        "import numpy as np\n",
        "import matplotlib.pyplot as plt\n",
        "import pandas as pd\n",
        "\n",
        "# Load dataset\n",
        "df = pd.read_csv(\"hemolytic_balanced_data_combined.csv\")\n",
        "\n",
        "# Drop sequences with length smaller than 6 and create a new dataframe\n",
        "df_filtered = df[df['sequence'].str.len() >= 9].copy()\n",
        "df = df_filtered\n",
        "\n",
        "df['sequence'] = df['sequence'].astype(str)\n",
        "df['label'] = df['hemolytic'].tolist()\n",
        "\n",
        "# === Tokenization into k-mers ===\n",
        "def seq_to_kmers(seq, k=3):\n",
        "    return ' '.join([seq[i:i + k] for i in range(len(seq) - k + 1)])\n",
        "\n",
        "k = 9\n",
        "df['kmers'] = df['sequence'].apply(lambda seq: seq_to_kmers(seq, k))\n",
        "\n",
        "# === Helper to reconstruct full sequence from k-mers ===\n",
        "def kmers_to_seq(kmer_str, k=3):\n",
        "    kmers = kmer_str.split()\n",
        "    if not kmers:\n",
        "        return ''\n",
        "    return kmers[0] + ''.join([k[-1] for k in kmers[1:]])\n",
        "\n",
        "# === Prediction wrapper for SHAP ===\n",
        "class_names = ['non-hemolytic', 'hemolytic']\n",
        "\n",
        "def shap_predict_sequences(sequences):\n",
        "    model.eval()\n",
        "    with torch.no_grad():\n",
        "        esm_feats = extract_esm_embeddings(sequences)  # tensor [B, D]\n",
        "        onehot_seqs = sequence_to_onehot(sequences).float()  # tensor [B, L, 4]\n",
        "        outputs = model(esm_feats, onehot_seqs)\n",
        "        probs = F.softmax(outputs, dim=1).cpu().numpy()\n",
        "    return probs\n",
        "\n",
        "# === Select top-N high-confidence toxic sequences ===\n",
        "raw_sequences = df['sequence'].tolist()\n",
        "labels = df['label'].tolist()\n",
        "\n",
        "probs = shap_predict_sequences(raw_sequences)\n",
        "high_conf_ids = np.where((np.array(labels) == 1) & (probs[:, 1] > 0.8))[0]\n",
        "selected_ids = high_conf_ids[:40]\n",
        "\n",
        "# === Build SHAP DeepExplainer ===\n",
        "background_sequences = raw_sequences[:50]  # background sample\n",
        "background_esm = extract_esm_embeddings(background_sequences)\n",
        "background_onehot = sequence_to_onehot(background_sequences).float()\n",
        "\n",
        "# Wrap model forward pass for SHAP\n",
        "class WrapperModel(torch.nn.Module):\n",
        "    def __init__(self, model):\n",
        "        super().__init__()\n",
        "        self.model = model\n",
        "    def forward(self, esm_feats, onehot_seqs):\n",
        "        return self.model(esm_feats, onehot_seqs)\n",
        "\n",
        "wrapped_model = WrapperModel(model)\n",
        "explainer = shap.DeepExplainer(wrapped_model, [background_esm, background_onehot])\n",
        "\n",
        "# === Run SHAP explanations with k-mer mapping and text visualization ===\n",
        "for i, idx in enumerate(selected_ids):\n",
        "    original_seq = raw_sequences[idx]\n",
        "    kmer_tokens = seq_to_kmers(original_seq, k).split()\n",
        "\n",
        "    esm_feats = extract_esm_embeddings([original_seq])\n",
        "    onehot_seq = sequence_to_onehot([original_seq]).float()\n",
        "\n",
        "    shap_values = explainer.shap_values([esm_feats, onehot_seq], check_additivity=False)\n",
        "\n",
        "    # Focus on one-hot contribution (shap_values[1])\n",
        "    onehot_shap = shap_values[1][0]  # [L, 4]\n",
        "    token_scores = onehot_shap.max(axis=1)  # contribution per residue\n",
        "\n",
        "    # Map scores back to k-mers\n",
        "    kmer_scores = []\n",
        "    for j in range(len(kmer_tokens)):\n",
        "        start = j\n",
        "        end = j + k\n",
        "        kmer_score = np.mean(token_scores[start:end])\n",
        "        kmer_scores.append(kmer_score)\n",
        "\n",
        "    # Sort influential k-mers\n",
        "    top_indices = np.argsort(-np.abs(kmer_scores))[:10]\n",
        "    print(f\"\\n🧬 Sequence {i+1}: {original_seq}\")\n",
        "    print(\"Top influential k-mers (toward hemolytic):\")\n",
        "    for j in top_indices:\n",
        "        print(f\"  {kmer_tokens[j]}: {kmer_scores[j]:.4f}\")\n",
        "\n",
        "    # Highlight in sequence\n",
        "    highlighted = original_seq\n",
        "    influential_kmers = [kmer_tokens[j] for j in top_indices]\n",
        "    for kmer_tok in influential_kmers:\n",
        "        highlighted = highlighted.replace(kmer_tok, f\"<{kmer_tok}>\")\n",
        "    print(\"Highlighted:\", highlighted)\n",
        "\n",
        "    # === Create SHAP Explanation object for text visualization ===\n",
        "    shap_exp = shap.Explanation(\n",
        "        values=np.array(kmer_scores),\n",
        "        data=np.array(kmer_tokens),\n",
        "        feature_names=kmer_tokens,\n",
        "        base_values=explainer.expected_value[1] if hasattr(explainer, 'expected_value') else 0\n",
        "    )\n",
        "\n",
        "    try:\n",
        "        shap.plots.text(shap_exp)\n",
        "    except Exception as e:\n",
        "        print(f\"Could not generate SHAP text plot for sequence {i+1}: {e}\")"
      ]
    },
    {
      "cell_type": "code",
      "execution_count": 1,
      "metadata": {
        "colab": {
          "base_uri": "https://localhost:8080/",
          "height": 370
        },
        "id": "3He6r_Pb3-0V",
        "outputId": "d230aa16-60b5-4d85-c224-4ffec4fb2285"
      },
      "outputs": [
        {
          "output_type": "error",
          "ename": "FileNotFoundError",
          "evalue": "[Errno 2] No such file or directory: 'hemolytic_balanced_data_combined.csv'",
          "traceback": [
            "\u001b[0;31m---------------------------------------------------------------------------\u001b[0m",
            "\u001b[0;31mFileNotFoundError\u001b[0m                         Traceback (most recent call last)",
            "\u001b[0;32m/tmp/ipython-input-1839768508.py\u001b[0m in \u001b[0;36m<cell line: 0>\u001b[0;34m()\u001b[0m\n\u001b[1;32m      7\u001b[0m \u001b[0;34m\u001b[0m\u001b[0m\n\u001b[1;32m      8\u001b[0m \u001b[0;31m# Load dataset\u001b[0m\u001b[0;34m\u001b[0m\u001b[0;34m\u001b[0m\u001b[0m\n\u001b[0;32m----> 9\u001b[0;31m \u001b[0mdf\u001b[0m \u001b[0;34m=\u001b[0m \u001b[0mpd\u001b[0m\u001b[0;34m.\u001b[0m\u001b[0mread_csv\u001b[0m\u001b[0;34m(\u001b[0m\u001b[0;34m\"hemolytic_balanced_data_combined.csv\"\u001b[0m\u001b[0;34m)\u001b[0m\u001b[0;34m\u001b[0m\u001b[0;34m\u001b[0m\u001b[0m\n\u001b[0m\u001b[1;32m     10\u001b[0m \u001b[0;34m\u001b[0m\u001b[0m\n\u001b[1;32m     11\u001b[0m \u001b[0;31m# Drop sequences with length smaller than 6 and create a new dataframe\u001b[0m\u001b[0;34m\u001b[0m\u001b[0;34m\u001b[0m\u001b[0m\n",
            "\u001b[0;32m/usr/local/lib/python3.12/dist-packages/pandas/io/parsers/readers.py\u001b[0m in \u001b[0;36mread_csv\u001b[0;34m(filepath_or_buffer, sep, delimiter, header, names, index_col, usecols, dtype, engine, converters, true_values, false_values, skipinitialspace, skiprows, skipfooter, nrows, na_values, keep_default_na, na_filter, verbose, skip_blank_lines, parse_dates, infer_datetime_format, keep_date_col, date_parser, date_format, dayfirst, cache_dates, iterator, chunksize, compression, thousands, decimal, lineterminator, quotechar, quoting, doublequote, escapechar, comment, encoding, encoding_errors, dialect, on_bad_lines, delim_whitespace, low_memory, memory_map, float_precision, storage_options, dtype_backend)\u001b[0m\n\u001b[1;32m   1024\u001b[0m     \u001b[0mkwds\u001b[0m\u001b[0;34m.\u001b[0m\u001b[0mupdate\u001b[0m\u001b[0;34m(\u001b[0m\u001b[0mkwds_defaults\u001b[0m\u001b[0;34m)\u001b[0m\u001b[0;34m\u001b[0m\u001b[0;34m\u001b[0m\u001b[0m\n\u001b[1;32m   1025\u001b[0m \u001b[0;34m\u001b[0m\u001b[0m\n\u001b[0;32m-> 1026\u001b[0;31m     \u001b[0;32mreturn\u001b[0m \u001b[0m_read\u001b[0m\u001b[0;34m(\u001b[0m\u001b[0mfilepath_or_buffer\u001b[0m\u001b[0;34m,\u001b[0m \u001b[0mkwds\u001b[0m\u001b[0;34m)\u001b[0m\u001b[0;34m\u001b[0m\u001b[0;34m\u001b[0m\u001b[0m\n\u001b[0m\u001b[1;32m   1027\u001b[0m \u001b[0;34m\u001b[0m\u001b[0m\n\u001b[1;32m   1028\u001b[0m \u001b[0;34m\u001b[0m\u001b[0m\n",
            "\u001b[0;32m/usr/local/lib/python3.12/dist-packages/pandas/io/parsers/readers.py\u001b[0m in \u001b[0;36m_read\u001b[0;34m(filepath_or_buffer, kwds)\u001b[0m\n\u001b[1;32m    618\u001b[0m \u001b[0;34m\u001b[0m\u001b[0m\n\u001b[1;32m    619\u001b[0m     \u001b[0;31m# Create the parser.\u001b[0m\u001b[0;34m\u001b[0m\u001b[0;34m\u001b[0m\u001b[0m\n\u001b[0;32m--> 620\u001b[0;31m     \u001b[0mparser\u001b[0m \u001b[0;34m=\u001b[0m \u001b[0mTextFileReader\u001b[0m\u001b[0;34m(\u001b[0m\u001b[0mfilepath_or_buffer\u001b[0m\u001b[0;34m,\u001b[0m \u001b[0;34m**\u001b[0m\u001b[0mkwds\u001b[0m\u001b[0;34m)\u001b[0m\u001b[0;34m\u001b[0m\u001b[0;34m\u001b[0m\u001b[0m\n\u001b[0m\u001b[1;32m    621\u001b[0m \u001b[0;34m\u001b[0m\u001b[0m\n\u001b[1;32m    622\u001b[0m     \u001b[0;32mif\u001b[0m \u001b[0mchunksize\u001b[0m \u001b[0;32mor\u001b[0m \u001b[0miterator\u001b[0m\u001b[0;34m:\u001b[0m\u001b[0;34m\u001b[0m\u001b[0;34m\u001b[0m\u001b[0m\n",
            "\u001b[0;32m/usr/local/lib/python3.12/dist-packages/pandas/io/parsers/readers.py\u001b[0m in \u001b[0;36m__init__\u001b[0;34m(self, f, engine, **kwds)\u001b[0m\n\u001b[1;32m   1618\u001b[0m \u001b[0;34m\u001b[0m\u001b[0m\n\u001b[1;32m   1619\u001b[0m         \u001b[0mself\u001b[0m\u001b[0;34m.\u001b[0m\u001b[0mhandles\u001b[0m\u001b[0;34m:\u001b[0m \u001b[0mIOHandles\u001b[0m \u001b[0;34m|\u001b[0m \u001b[0;32mNone\u001b[0m \u001b[0;34m=\u001b[0m \u001b[0;32mNone\u001b[0m\u001b[0;34m\u001b[0m\u001b[0;34m\u001b[0m\u001b[0m\n\u001b[0;32m-> 1620\u001b[0;31m         \u001b[0mself\u001b[0m\u001b[0;34m.\u001b[0m\u001b[0m_engine\u001b[0m \u001b[0;34m=\u001b[0m \u001b[0mself\u001b[0m\u001b[0;34m.\u001b[0m\u001b[0m_make_engine\u001b[0m\u001b[0;34m(\u001b[0m\u001b[0mf\u001b[0m\u001b[0;34m,\u001b[0m \u001b[0mself\u001b[0m\u001b[0;34m.\u001b[0m\u001b[0mengine\u001b[0m\u001b[0;34m)\u001b[0m\u001b[0;34m\u001b[0m\u001b[0;34m\u001b[0m\u001b[0m\n\u001b[0m\u001b[1;32m   1621\u001b[0m \u001b[0;34m\u001b[0m\u001b[0m\n\u001b[1;32m   1622\u001b[0m     \u001b[0;32mdef\u001b[0m \u001b[0mclose\u001b[0m\u001b[0;34m(\u001b[0m\u001b[0mself\u001b[0m\u001b[0;34m)\u001b[0m \u001b[0;34m->\u001b[0m \u001b[0;32mNone\u001b[0m\u001b[0;34m:\u001b[0m\u001b[0;34m\u001b[0m\u001b[0;34m\u001b[0m\u001b[0m\n",
            "\u001b[0;32m/usr/local/lib/python3.12/dist-packages/pandas/io/parsers/readers.py\u001b[0m in \u001b[0;36m_make_engine\u001b[0;34m(self, f, engine)\u001b[0m\n\u001b[1;32m   1878\u001b[0m                 \u001b[0;32mif\u001b[0m \u001b[0;34m\"b\"\u001b[0m \u001b[0;32mnot\u001b[0m \u001b[0;32min\u001b[0m \u001b[0mmode\u001b[0m\u001b[0;34m:\u001b[0m\u001b[0;34m\u001b[0m\u001b[0;34m\u001b[0m\u001b[0m\n\u001b[1;32m   1879\u001b[0m                     \u001b[0mmode\u001b[0m \u001b[0;34m+=\u001b[0m \u001b[0;34m\"b\"\u001b[0m\u001b[0;34m\u001b[0m\u001b[0;34m\u001b[0m\u001b[0m\n\u001b[0;32m-> 1880\u001b[0;31m             self.handles = get_handle(\n\u001b[0m\u001b[1;32m   1881\u001b[0m                 \u001b[0mf\u001b[0m\u001b[0;34m,\u001b[0m\u001b[0;34m\u001b[0m\u001b[0;34m\u001b[0m\u001b[0m\n\u001b[1;32m   1882\u001b[0m                 \u001b[0mmode\u001b[0m\u001b[0;34m,\u001b[0m\u001b[0;34m\u001b[0m\u001b[0;34m\u001b[0m\u001b[0m\n",
            "\u001b[0;32m/usr/local/lib/python3.12/dist-packages/pandas/io/common.py\u001b[0m in \u001b[0;36mget_handle\u001b[0;34m(path_or_buf, mode, encoding, compression, memory_map, is_text, errors, storage_options)\u001b[0m\n\u001b[1;32m    871\u001b[0m         \u001b[0;32mif\u001b[0m \u001b[0mioargs\u001b[0m\u001b[0;34m.\u001b[0m\u001b[0mencoding\u001b[0m \u001b[0;32mand\u001b[0m \u001b[0;34m\"b\"\u001b[0m \u001b[0;32mnot\u001b[0m \u001b[0;32min\u001b[0m \u001b[0mioargs\u001b[0m\u001b[0;34m.\u001b[0m\u001b[0mmode\u001b[0m\u001b[0;34m:\u001b[0m\u001b[0;34m\u001b[0m\u001b[0;34m\u001b[0m\u001b[0m\n\u001b[1;32m    872\u001b[0m             \u001b[0;31m# Encoding\u001b[0m\u001b[0;34m\u001b[0m\u001b[0;34m\u001b[0m\u001b[0m\n\u001b[0;32m--> 873\u001b[0;31m             handle = open(\n\u001b[0m\u001b[1;32m    874\u001b[0m                 \u001b[0mhandle\u001b[0m\u001b[0;34m,\u001b[0m\u001b[0;34m\u001b[0m\u001b[0;34m\u001b[0m\u001b[0m\n\u001b[1;32m    875\u001b[0m                 \u001b[0mioargs\u001b[0m\u001b[0;34m.\u001b[0m\u001b[0mmode\u001b[0m\u001b[0;34m,\u001b[0m\u001b[0;34m\u001b[0m\u001b[0;34m\u001b[0m\u001b[0m\n",
            "\u001b[0;31mFileNotFoundError\u001b[0m: [Errno 2] No such file or directory: 'hemolytic_balanced_data_combined.csv'"
          ]
        }
      ],
      "source": [
        "import shap\n",
        "import torch\n",
        "import torch.nn.functional as F\n",
        "import numpy as np\n",
        "import matplotlib.pyplot as plt\n",
        "import pandas as pd\n",
        "\n",
        "# Load dataset\n",
        "df = pd.read_csv(\"hemolytic_balanced_data_combined.csv\")\n",
        "\n",
        "# Drop sequences with length smaller than 6 and create a new dataframe\n",
        "df_filtered = df[df['sequence'].str.len() >= 9].copy()\n",
        "df = df_filtered\n",
        "\n",
        "df['sequence'] = df['sequence'].astype(str)\n",
        "df['label'] = df['hemolytic'].tolist()\n",
        "\n",
        "# === Tokenization into k-mers ===\n",
        "def seq_to_kmers(seq, k=3):\n",
        "    return ' '.join([seq[i:i + k] for i in range(len(seq) - k + 1)])\n",
        "\n",
        "k = 9\n",
        "df['kmers'] = df['sequence'].apply(lambda seq: seq_to_kmers(seq, k))\n",
        "\n",
        "# === Helper to reconstruct full sequence from k-mers ===\n",
        "def kmers_to_seq(kmer_str, k=3):\n",
        "    kmers = kmer_str.split()\n",
        "    if not kmers:\n",
        "        return ''\n",
        "    return kmers[0] + ''.join([k[-1] for k in kmers[1:]])\n",
        "\n",
        "# === Prediction wrapper for SHAP ===\n",
        "class_names = ['non-hemolytic', 'hemolytic']\n",
        "\n",
        "def shap_predict_sequences(sequences):\n",
        "    model.eval()\n",
        "    with torch.no_grad():\n",
        "        esm_feats = extract_esm_embeddings(sequences)  # tensor [B, D]\n",
        "        onehot_seqs = sequence_to_onehot(sequences).float()  # tensor [B, L, 4]\n",
        "        outputs = model(esm_feats, onehot_seqs)\n",
        "        probs = F.softmax(outputs, dim=1).cpu().numpy()\n",
        "    return probs\n",
        "\n",
        "# === Select top-N high-confidence toxic sequences ===\n",
        "raw_sequences = df['sequence'].tolist()\n",
        "labels = df['label'].tolist()\n",
        "\n",
        "probs = shap_predict_sequences(raw_sequences)\n",
        "high_conf_ids = np.where((np.array(labels) == 0) & (probs[:, 1] > 0.8))[0]\n",
        "selected_ids = high_conf_ids[:40]\n",
        "\n",
        "# === Build SHAP DeepExplainer ===\n",
        "background_sequences = raw_sequences[:50]  # background sample\n",
        "background_esm = extract_esm_embeddings(background_sequences)\n",
        "background_onehot = sequence_to_onehot(background_sequences).float()\n",
        "\n",
        "# Wrap model forward pass for SHAP\n",
        "class WrapperModel(torch.nn.Module):\n",
        "    def __init__(self, model):\n",
        "        super().__init__()\n",
        "        self.model = model\n",
        "    def forward(self, esm_feats, onehot_seqs):\n",
        "        return self.model(esm_feats, onehot_seqs)\n",
        "\n",
        "wrapped_model = WrapperModel(model)\n",
        "explainer = shap.DeepExplainer(wrapped_model, [background_esm, background_onehot])\n",
        "\n",
        "# === Run SHAP explanations with k-mer mapping and text visualization ===\n",
        "for i, idx in enumerate(selected_ids):\n",
        "    original_seq = raw_sequences[idx]\n",
        "    kmer_tokens = seq_to_kmers(original_seq, k).split()\n",
        "\n",
        "    esm_feats = extract_esm_embeddings([original_seq])\n",
        "    onehot_seq = sequence_to_onehot([original_seq]).float()\n",
        "\n",
        "    shap_values = explainer.shap_values([esm_feats, onehot_seq], check_additivity=False)\n",
        "\n",
        "    # Focus on one-hot contribution (shap_values[1])\n",
        "    onehot_shap = shap_values[1][0]  # [L, 4]\n",
        "    token_scores = onehot_shap.max(axis=1)  # contribution per residue\n",
        "\n",
        "    # Map scores back to k-mers\n",
        "    kmer_scores = []\n",
        "    for j in range(len(kmer_tokens)):\n",
        "        start = j\n",
        "        end = j + k\n",
        "        kmer_score = np.mean(token_scores[start:end])\n",
        "        kmer_scores.append(kmer_score)\n",
        "\n",
        "    # Sort influential k-mers\n",
        "    top_indices = np.argsort(-np.abs(kmer_scores))[:10]\n",
        "    print(f\"\\n🧬 Sequence {i+1}: {original_seq}\")\n",
        "    print(\"Top influential k-mers (toward hemolytic):\")\n",
        "    for j in top_indices:\n",
        "        print(f\"  {kmer_tokens[j]}: {kmer_scores[j]:.4f}\")\n",
        "\n",
        "    # Highlight in sequence\n",
        "    highlighted = original_seq\n",
        "    influential_kmers = [kmer_tokens[j] for j in top_indices]\n",
        "    for kmer_tok in influential_kmers:\n",
        "        highlighted = highlighted.replace(kmer_tok, f\"<{kmer_tok}>\")\n",
        "    print(\"Highlighted:\", highlighted)\n",
        "\n",
        "    # === Create SHAP Explanation object for text visualization ===\n",
        "    shap_exp = shap.Explanation(\n",
        "        values=np.array(kmer_scores),\n",
        "        data=np.array(kmer_tokens),\n",
        "        feature_names=kmer_tokens,\n",
        "        base_values=explainer.expected_value[1] if hasattr(explainer, 'expected_value') else 0\n",
        "    )\n",
        "\n",
        "    try:\n",
        "        shap.plots.text(shap_exp)\n",
        "    except Exception as e:\n",
        "        print(f\"Could not generate SHAP text plot for sequence {i+1}: {e}\")"
      ]
    },
    {
      "cell_type": "code",
      "execution_count": null,
      "metadata": {
        "id": "jjAxEacv3-0V"
      },
      "outputs": [],
      "source": []
    }
  ],
  "metadata": {
    "colab": {
      "provenance": []
    },
    "kernelspec": {
      "display_name": "Python 3 (ipykernel)",
      "language": "python",
      "name": "python3"
    },
    "language_info": {
      "codemirror_mode": {
        "name": "ipython",
        "version": 3
      },
      "file_extension": ".py",
      "mimetype": "text/x-python",
      "name": "python",
      "nbconvert_exporter": "python",
      "pygments_lexer": "ipython3",
      "version": "3.11.5"
    }
  },
  "nbformat": 4,
  "nbformat_minor": 0
}